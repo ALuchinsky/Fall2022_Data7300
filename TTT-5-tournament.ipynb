{
 "cells": [
  {
   "cell_type": "markdown",
   "id": "1828c2cc-4a9b-467c-9408-37b36a8e22a5",
   "metadata": {
    "tags": []
   },
   "source": [
    "# Tic Tac Toe"
   ]
  },
  {
   "cell_type": "code",
   "execution_count": 1,
   "id": "0a034369-fabd-453d-8e51-ede08f36d462",
   "metadata": {},
   "outputs": [],
   "source": [
    "import os\n",
    "import pickle\n",
    "import tqdm"
   ]
  },
  {
   "cell_type": "code",
   "execution_count": 2,
   "id": "fa599cf5-e7f6-4181-af2d-68acf54c5235",
   "metadata": {},
   "outputs": [
    {
     "name": "stderr",
     "output_type": "stream",
     "text": [
      "2022-11-18 12:42:00.363290: I tensorflow/core/platform/cpu_feature_guard.cc:193] This TensorFlow binary is optimized with oneAPI Deep Neural Network Library (oneDNN) to use the following CPU instructions in performance-critical operations:  AVX2 FMA\n",
      "To enable them in other operations, rebuild TensorFlow with the appropriate compiler flags.\n"
     ]
    }
   ],
   "source": [
    "from ttt5_funcs import *"
   ]
  },
  {
   "cell_type": "code",
   "execution_count": 3,
   "id": "d64ac815-6745-43d9-9b92-9e47c5ee25f4",
   "metadata": {},
   "outputs": [],
   "source": [
    "import tqdm"
   ]
  },
  {
   "cell_type": "markdown",
   "id": "05964100-f162-439e-8853-2af94084ab4e",
   "metadata": {},
   "source": [
    "see page https://medium.com/swlh/tic-tac-toe-and-deep-neural-networks-ea600bc53f51"
   ]
  },
  {
   "cell_type": "code",
   "execution_count": 3,
   "id": "80b24509-7fe5-4dd7-a167-1aceae167bb3",
   "metadata": {},
   "outputs": [
    {
     "name": "stdout",
     "output_type": "stream",
     "text": [
      "|X X O   X |\n",
      "|  X X O O |\n",
      "|X X X X O |\n",
      "|  O X O X |\n",
      "|O O O O O |\n",
      "Winner: 2\n"
     ]
    }
   ],
   "source": [
    "history = simulateGame()\n",
    "board = movesToBoard(history)\n",
    "printBoard(board)"
   ]
  },
  {
   "cell_type": "code",
   "execution_count": 4,
   "id": "532d3967-3e13-49c3-80d7-79c8d4fe93ac",
   "metadata": {},
   "outputs": [
    {
     "name": "stderr",
     "output_type": "stream",
     "text": [
      "100%|████████████████████████████████████████████████████████████████████████████████████████████████████████████████████████████████████████████████████████████████████| 10000/10000 [00:20<00:00, 486.18it/s]\n"
     ]
    }
   ],
   "source": [
    "games = [simulateGame() for _ in tqdm.tqdm(range(10000))]"
   ]
  },
  {
   "cell_type": "code",
   "execution_count": 21,
   "id": "2b2e8432-586b-46d6-8726-d5700f95e19f",
   "metadata": {},
   "outputs": [
    {
     "name": "stdout",
     "output_type": "stream",
     "text": [
      "Results for player 1:\n",
      "Wins: 2473 (24.7%)\n",
      "Loss: 1566 (15.7%)\n",
      "Draw: 5961 (59.6%)\n",
      "\n",
      "Results for player 2:\n",
      "Wins: 1566 (15.7%)\n",
      "Loss: 2473 (24.7%)\n",
      "Draw: 5961 (59.6%)\n"
     ]
    }
   ],
   "source": [
    "gameStats(games)\n",
    "print()\n",
    "gameStats(games, player=2)"
   ]
  },
  {
   "cell_type": "code",
   "execution_count": 27,
   "id": "1b9afeac-cc36-4b57-9592-835226ecc158",
   "metadata": {},
   "outputs": [
    {
     "data": {
      "text/plain": [
       "array([[0, 0, 0, 0, 1, 1, 1, 1, 1, 2, 2, 2, 2, 3, 3, 3, 3, 3, 4, 4, 4, 4,\n",
       "        4],\n",
       "       [0, 1, 3, 4, 0, 1, 2, 3, 4, 0, 1, 2, 3, 0, 1, 2, 3, 4, 0, 1, 2, 3,\n",
       "        4]])"
      ]
     },
     "execution_count": 27,
     "metadata": {},
     "output_type": "execute_result"
    }
   ],
   "source": [
    "np.array(np.nonzero(movesToBoard(games[1])))"
   ]
  },
  {
   "cell_type": "markdown",
   "id": "16b6dea7-254a-4b35-824a-caa37ab1a437",
   "metadata": {},
   "source": [
    "## DNN"
   ]
  },
  {
   "cell_type": "code",
   "execution_count": null,
   "id": "090e073a-9bd6-4523-9094-ec44fdeabb4e",
   "metadata": {},
   "outputs": [],
   "source": [
    "# model = getModel()\n",
    "# X_train, X_test, y_train, y_test = gamesToWinLossData(games)\n",
    "# history = model.fit(X_train, y_train, validation_data=(X_test, y_test), epochs=100, batch_size=100)\n",
    "\n",
    "# model.save_weights(\"./results/ttt5\")"
   ]
  },
  {
   "cell_type": "code",
   "execution_count": 5,
   "id": "e72d4989-fdbb-40ec-b813-85aaf6fca477",
   "metadata": {},
   "outputs": [
    {
     "name": "stderr",
     "output_type": "stream",
     "text": [
      "2022-11-18 07:14:02.503612: I tensorflow/core/platform/cpu_feature_guard.cc:193] This TensorFlow binary is optimized with oneAPI Deep Neural Network Library (oneDNN) to use the following CPU instructions in performance-critical operations:  AVX2 FMA\n",
      "To enable them in other operations, rebuild TensorFlow with the appropriate compiler flags.\n"
     ]
    },
    {
     "data": {
      "text/plain": [
       "<tensorflow.python.checkpoint.checkpoint.CheckpointLoadStatus at 0x7fe7c8d500a0>"
      ]
     },
     "execution_count": 5,
     "metadata": {},
     "output_type": "execute_result"
    }
   ],
   "source": [
    "model = getModel()\n",
    "model.load_weights(\"./results/ttt5\")"
   ]
  },
  {
   "cell_type": "code",
   "execution_count": 6,
   "id": "b4f77c6e-2181-486b-b8f7-c7b3ca994ab3",
   "metadata": {},
   "outputs": [],
   "source": [
    "import time"
   ]
  },
  {
   "cell_type": "markdown",
   "id": "81bfb7b9-81bb-42d9-a0f2-c0866419e52b",
   "metadata": {
    "tags": []
   },
   "source": [
    "## Simulations"
   ]
  },
  {
   "cell_type": "code",
   "execution_count": 6,
   "id": "9f562267-566b-4a23-aa0f-35003c419ec6",
   "metadata": {},
   "outputs": [],
   "source": [
    "games2 = []"
   ]
  },
  {
   "cell_type": "code",
   "execution_count": 7,
   "id": "065b25f1-c385-47d2-a2c1-d611d413ebee",
   "metadata": {},
   "outputs": [
    {
     "name": "stderr",
     "output_type": "stream",
     "text": [
      "100%|█████████████████████████████████████████████████████████████████████████████████████████████████████████████████████████████████████████████████████████████████████████| 100/100 [08:34<00:00,  5.15s/it]"
     ]
    },
    {
     "name": "stdout",
     "output_type": "stream",
     "text": [
      "514.849219706\n"
     ]
    },
    {
     "name": "stderr",
     "output_type": "stream",
     "text": [
      "\n"
     ]
    }
   ],
   "source": [
    "start = time.perf_counter()\n",
    "games2 += [simulateGame(p1=model) for _ in tqdm.tqdm(range(100))]\n",
    "print(time.perf_counter()-start)"
   ]
  },
  {
   "cell_type": "code",
   "execution_count": 8,
   "id": "2aa3fd19-bf8d-4240-a6da-8fc419513ebf",
   "metadata": {},
   "outputs": [
    {
     "name": "stdout",
     "output_type": "stream",
     "text": [
      "[games2]= 100\n",
      "Results for player 1:\n",
      "Wins: 20 (20.0%)\n",
      "Loss: 23 (23.0%)\n",
      "Draw: 57 (57.0%)\n",
      "\n",
      "Results for player 2:\n",
      "Wins: 23 (23.0%)\n",
      "Loss: 20 (20.0%)\n",
      "Draw: 57 (57.0%)\n"
     ]
    }
   ],
   "source": [
    "print(\"[games2]=\", len(games2))\n",
    "gameStats(games2)\n",
    "print()\n",
    "gameStats(games2, player=2)"
   ]
  },
  {
   "cell_type": "code",
   "execution_count": 4,
   "id": "4d76beec-cfdb-4190-8ce4-100500ba7b5a",
   "metadata": {},
   "outputs": [],
   "source": [
    "def gen_tournament(p1=None, p2=None, n=100, rnd=0.9):\n",
    "    t_games = []\n",
    "    n_fault = 0\n",
    "    for _ in tqdm.tqdm(range(n)):\n",
    "        try:\n",
    "            moves = simulateGame(p1=p1, p2=p2, rnd=rnd)\n",
    "            winner = getWinner(movesToBoard(moves))\n",
    "            t_games = t_games + [(winner, moves)]\n",
    "        except:\n",
    "            n_fault = n_fault + 1\n",
    "    return t_games, n_fault"
   ]
  },
  {
   "cell_type": "code",
   "execution_count": 18,
   "id": "663f735c-fdff-40f9-aca6-d72f5faa7255",
   "metadata": {},
   "outputs": [
    {
     "name": "stdout",
     "output_type": "stream",
     "text": [
      "Simulation\n"
     ]
    },
    {
     "name": "stderr",
     "output_type": "stream",
     "text": [
      "  0%|                                                                                                                                                                                   | 0/100 [00:00<?, ?it/s]"
     ]
    },
    {
     "name": "stdout",
     "output_type": "stream",
     "text": [
      "WARNING:tensorflow:Detecting that an object or model or tf.train.Checkpoint is being deleted with unrestored values. See the following logs for the specific values in question. To silence these warnings, use `status.expect_partial()`. See https://www.tensorflow.org/api_docs/python/tf/train/Checkpoint#restorefor details about the status object returned by the restore function.\n",
      "WARNING:tensorflow:Value in checkpoint could not be found in the restored object: (root).optimizer.iter\n",
      "WARNING:tensorflow:Value in checkpoint could not be found in the restored object: (root).optimizer.decay\n",
      "WARNING:tensorflow:Value in checkpoint could not be found in the restored object: (root).optimizer.learning_rate\n",
      "WARNING:tensorflow:Value in checkpoint could not be found in the restored object: (root).optimizer.momentum\n",
      "WARNING:tensorflow:Value in checkpoint could not be found in the restored object: (root).optimizer.rho\n"
     ]
    },
    {
     "name": "stderr",
     "output_type": "stream",
     "text": [
      "100%|█████████████████████████████████████████████████████████████████████████████████████████████████████████████████████████████████████████████████████████████████████████| 100/100 [16:30<00:00,  9.90s/it]\n"
     ]
    },
    {
     "name": "stdout",
     "output_type": "stream",
     "text": [
      "Training new model\n"
     ]
    }
   ],
   "source": [
    "epoch = 4\n",
    "\n",
    "dir_name = \"./results/epoch_\"+str(epoch)+\"/\"\n",
    "#if not os.path.exists(dir_name):\n",
    "os.makedirs(dir_name)\n",
    "\n",
    "#\n",
    "old_model = getModel()\n",
    "old_model.load_weights(\"./results/epoch_\"+str(epoch-1)+\"/model\");\n",
    "new_model = keras.models.clone_and_build_model(old_model)\n",
    "print(\"Simulation\")\n",
    "new_t_games, n_fault = gen_tournament(p1=new_model, p2=old_model, n=100, rnd=0.9)\n",
    "with open(dir_name+\"/t_games.dat\", \"wb\") as file:\n",
    "    pickle.dump(new_t_games, file)\n",
    "#\n",
    "print(\"Training new model\")\n",
    "X_train, X_test, y_train, y_test = gamesToWinLossData( [g[1] for g in new_t_games], train_ratio=0.99 )\n",
    "new_model.fit(X_train, y_train, validation_data=(X_test, y_test), epochs=100, batch_size=100, verbose = 0)\n",
    "new_model.save_weights(dir_name+\"/model\")"
   ]
  },
  {
   "cell_type": "markdown",
   "id": "640974b2-c068-4b5e-a919-d5e41e90b697",
   "metadata": {},
   "source": [
    "## Tournament between different epochs"
   ]
  },
  {
   "cell_type": "code",
   "execution_count": 26,
   "id": "ccce14db-ee6d-4013-b04c-849fee71c318",
   "metadata": {},
   "outputs": [
    {
     "data": {
      "text/plain": [
       "<tensorflow.python.checkpoint.checkpoint.CheckpointLoadStatus at 0x7fd448d90a00>"
      ]
     },
     "execution_count": 26,
     "metadata": {},
     "output_type": "execute_result"
    }
   ],
   "source": [
    "model1 = getModel()\n",
    "model1.load_weights(\"./results/epoch_2/model\")"
   ]
  },
  {
   "cell_type": "code",
   "execution_count": 37,
   "id": "573be400-814d-4a64-bb48-64bb89d02630",
   "metadata": {},
   "outputs": [
    {
     "data": {
      "text/plain": [
       "<keras.callbacks.History at 0x7fd47902e520>"
      ]
     },
     "execution_count": 37,
     "metadata": {},
     "output_type": "execute_result"
    }
   ],
   "source": [
    "model1 = getModel()\n",
    "with open(\"./results/epoch_0/t_games.dat\",\"rb\") as file:\n",
    "    tg = pickle.load(file)\n",
    "X_train, X_test, y_train, y_test = gamesToWinLossData([g[1] for g in tg])\n",
    "model1.fit(X_train, y_train, validation_data=(X_test, y_test), epochs=100, batch_size=100, verbose = 0)"
   ]
  },
  {
   "cell_type": "code",
   "execution_count": 7,
   "id": "170a6751-4de3-4c18-9117-e7d4a7d68b79",
   "metadata": {},
   "outputs": [
    {
     "name": "stderr",
     "output_type": "stream",
     "text": [
      "100%|██████████████████████████████████████████████████████████████████████████████████████████████████████████████████████████████████████████████████████████████████████████| 20/20 [00:00<00:00, 344.05it/s]\n"
     ]
    }
   ],
   "source": [
    "tg, nf  = gen_tournament(p1=None, p2=None, n=20)"
   ]
  },
  {
   "cell_type": "code",
   "execution_count": 11,
   "id": "0f1f902f-8ed3-486f-a6e1-d76df7b8d54c",
   "metadata": {},
   "outputs": [],
   "source": [
    "winners = np.array([g[0] for g in tg])"
   ]
  },
  {
   "cell_type": "code",
   "execution_count": 13,
   "id": "0f10aa14-6455-4186-a572-d38a81552703",
   "metadata": {},
   "outputs": [
    {
     "data": {
      "text/plain": [
       "13"
      ]
     },
     "execution_count": 13,
     "metadata": {},
     "output_type": "execute_result"
    }
   ],
   "source": [
    "np.sum(winners == 0)"
   ]
  },
  {
   "cell_type": "code",
   "execution_count": 18,
   "id": "ecddcb9f-3db3-474b-bc2e-967f96b2f480",
   "metadata": {},
   "outputs": [
    {
     "name": "stdout",
     "output_type": "stream",
     "text": [
      "Play between  0  and  0\n"
     ]
    },
    {
     "name": "stderr",
     "output_type": "stream",
     "text": [
      "100%|█████████████████████████████████████████████████████████████████████████████████████████████████████████████████████████████████████████████████████████████████████████████| 1/1 [00:10<00:00, 10.01s/it]\n"
     ]
    },
    {
     "name": "stdout",
     "output_type": "stream",
     "text": [
      "(nD, nW1, nW2)= (1, 0, 0)  n_faults= 0\n",
      "Play between  0  and  1\n"
     ]
    },
    {
     "name": "stderr",
     "output_type": "stream",
     "text": [
      "100%|█████████████████████████████████████████████████████████████████████████████████████████████████████████████████████████████████████████████████████████████████████████████| 1/1 [00:09<00:00,  9.92s/it]\n"
     ]
    },
    {
     "name": "stdout",
     "output_type": "stream",
     "text": [
      "(nD, nW1, nW2)= (1, 0, 0)  n_faults= 0\n",
      "Play between  0  and  2\n"
     ]
    },
    {
     "name": "stderr",
     "output_type": "stream",
     "text": [
      "100%|█████████████████████████████████████████████████████████████████████████████████████████████████████████████████████████████████████████████████████████████████████████████| 1/1 [00:08<00:00,  8.57s/it]\n"
     ]
    },
    {
     "name": "stdout",
     "output_type": "stream",
     "text": [
      "(nD, nW1, nW2)= (0, 1, 0)  n_faults= 0\n",
      "Play between  0  and  3\n"
     ]
    },
    {
     "name": "stderr",
     "output_type": "stream",
     "text": [
      "100%|█████████████████████████████████████████████████████████████████████████████████████████████████████████████████████████████████████████████████████████████████████████████| 1/1 [00:09<00:00,  9.98s/it]\n"
     ]
    },
    {
     "name": "stdout",
     "output_type": "stream",
     "text": [
      "(nD, nW1, nW2)= (1, 0, 0)  n_faults= 0\n",
      "Play between  0  and  4\n"
     ]
    },
    {
     "name": "stderr",
     "output_type": "stream",
     "text": [
      "100%|█████████████████████████████████████████████████████████████████████████████████████████████████████████████████████████████████████████████████████████████████████████████| 1/1 [00:09<00:00,  9.98s/it]\n"
     ]
    },
    {
     "name": "stdout",
     "output_type": "stream",
     "text": [
      "(nD, nW1, nW2)= (1, 0, 0)  n_faults= 0\n",
      "Play between  1  and  1\n"
     ]
    },
    {
     "name": "stderr",
     "output_type": "stream",
     "text": [
      "100%|█████████████████████████████████████████████████████████████████████████████████████████████████████████████████████████████████████████████████████████████████████████████| 1/1 [00:09<00:00,  9.54s/it]\n"
     ]
    },
    {
     "name": "stdout",
     "output_type": "stream",
     "text": [
      "(nD, nW1, nW2)= (0, 1, 0)  n_faults= 0\n",
      "Play between  1  and  2\n"
     ]
    },
    {
     "name": "stderr",
     "output_type": "stream",
     "text": [
      "100%|█████████████████████████████████████████████████████████████████████████████████████████████████████████████████████████████████████████████████████████████████████████████| 1/1 [00:10<00:00, 10.08s/it]\n"
     ]
    },
    {
     "name": "stdout",
     "output_type": "stream",
     "text": [
      "(nD, nW1, nW2)= (1, 0, 0)  n_faults= 0\n",
      "Play between  1  and  3\n"
     ]
    },
    {
     "name": "stderr",
     "output_type": "stream",
     "text": [
      "100%|█████████████████████████████████████████████████████████████████████████████████████████████████████████████████████████████████████████████████████████████████████████████| 1/1 [00:10<00:00, 10.06s/it]\n"
     ]
    },
    {
     "name": "stdout",
     "output_type": "stream",
     "text": [
      "(nD, nW1, nW2)= (1, 0, 0)  n_faults= 0\n",
      "Play between  1  and  4\n"
     ]
    },
    {
     "name": "stderr",
     "output_type": "stream",
     "text": [
      "100%|█████████████████████████████████████████████████████████████████████████████████████████████████████████████████████████████████████████████████████████████████████████████| 1/1 [00:10<00:00, 10.18s/it]\n"
     ]
    },
    {
     "name": "stdout",
     "output_type": "stream",
     "text": [
      "(nD, nW1, nW2)= (1, 0, 0)  n_faults= 0\n",
      "Play between  2  and  2\n"
     ]
    },
    {
     "name": "stderr",
     "output_type": "stream",
     "text": [
      "100%|█████████████████████████████████████████████████████████████████████████████████████████████████████████████████████████████████████████████████████████████████████████████| 1/1 [00:09<00:00,  9.56s/it]\n"
     ]
    },
    {
     "name": "stdout",
     "output_type": "stream",
     "text": [
      "(nD, nW1, nW2)= (0, 0, 1)  n_faults= 0\n",
      "Play between  2  and  3\n"
     ]
    },
    {
     "name": "stderr",
     "output_type": "stream",
     "text": [
      "100%|█████████████████████████████████████████████████████████████████████████████████████████████████████████████████████████████████████████████████████████████████████████████| 1/1 [00:09<00:00,  9.99s/it]\n"
     ]
    },
    {
     "name": "stdout",
     "output_type": "stream",
     "text": [
      "(nD, nW1, nW2)= (0, 1, 0)  n_faults= 0\n",
      "Play between  2  and  4\n"
     ]
    },
    {
     "name": "stderr",
     "output_type": "stream",
     "text": [
      "100%|█████████████████████████████████████████████████████████████████████████████████████████████████████████████████████████████████████████████████████████████████████████████| 1/1 [00:09<00:00,  9.99s/it]\n"
     ]
    },
    {
     "name": "stdout",
     "output_type": "stream",
     "text": [
      "(nD, nW1, nW2)= (1, 0, 0)  n_faults= 0\n",
      "Play between  3  and  3\n"
     ]
    },
    {
     "name": "stderr",
     "output_type": "stream",
     "text": [
      "100%|█████████████████████████████████████████████████████████████████████████████████████████████████████████████████████████████████████████████████████████████████████████████| 1/1 [00:10<00:00, 10.02s/it]\n"
     ]
    },
    {
     "name": "stdout",
     "output_type": "stream",
     "text": [
      "(nD, nW1, nW2)= (1, 0, 0)  n_faults= 0\n",
      "Play between  3  and  4\n"
     ]
    },
    {
     "name": "stderr",
     "output_type": "stream",
     "text": [
      "100%|█████████████████████████████████████████████████████████████████████████████████████████████████████████████████████████████████████████████████████████████████████████████| 1/1 [00:10<00:00, 10.25s/it]\n"
     ]
    },
    {
     "name": "stdout",
     "output_type": "stream",
     "text": [
      "(nD, nW1, nW2)= (1, 0, 0)  n_faults= 0\n",
      "Play between  4  and  4\n"
     ]
    },
    {
     "name": "stderr",
     "output_type": "stream",
     "text": [
      "100%|█████████████████████████████████████████████████████████████████████████████████████████████████████████████████████████████████████████████████████████████████████████████| 1/1 [00:09<00:00,  9.96s/it]"
     ]
    },
    {
     "name": "stdout",
     "output_type": "stream",
     "text": [
      "(nD, nW1, nW2)= (1, 0, 0)  n_faults= 0\n"
     ]
    },
    {
     "name": "stderr",
     "output_type": "stream",
     "text": [
      "\n"
     ]
    }
   ],
   "source": [
    "n_models = 5\n",
    "TResults = [[0 for e1 in range(n_models)] for e2 in range(n_models)]\n",
    "for e1 in range(n_models):\n",
    "    model1 = getModel()\n",
    "    model1.load_weights(\"./results/epoch_\"+str(e1)+\"/model\").expect_partial()\n",
    "    for e2 in range(e1, n_models):\n",
    "        print(\"Play between \", e1, \" and \", e2)\n",
    "        model2 = getModel()\n",
    "        model1.load_weights(\"./results/epoch_\"+str(e2)+\"/model\").expect_partial()\n",
    "        tg, n_faults = gen_tournament(p1=model1, p2=model2, n=1, rnd=0)\n",
    "        TResults[e1][e2]=tg\n",
    "        winners = np.array([g[0] for g in tg])\n",
    "        nDraws = np.sum(winners == 0)\n",
    "        nW1 = np.sum(winners == 1)\n",
    "        nW2 = np.sum(winners == 2)\n",
    "        print(\"(nD, nW1, nW2)=\", (nDraws, nW1, nW2), \" n_faults=\", n_faults)\n",
    "        "
   ]
  },
  {
   "cell_type": "code",
   "execution_count": 52,
   "id": "213de813-8d56-4be4-9718-e9e2f4717c97",
   "metadata": {},
   "outputs": [],
   "source": [
    "from IPython.display import display, clear_output"
   ]
  },
  {
   "cell_type": "code",
   "execution_count": 61,
   "id": "cf8f8f65-73ee-4c40-ad42-a83022baf339",
   "metadata": {},
   "outputs": [
    {
     "name": "stdout",
     "output_type": "stream",
     "text": [
      "Move  25\n",
      "|X O X X X |\n",
      "|X X O O O |\n",
      "|O O O X O |\n",
      "|O X O X O |\n",
      "|O X X X X |\n",
      "Winner: 0\n"
     ]
    },
    {
     "data": {
      "text/plain": [
       "None"
      ]
     },
     "metadata": {},
     "output_type": "display_data"
    },
    {
     "name": "stdin",
     "output_type": "stream",
     "text": [
      " \n"
     ]
    }
   ],
   "source": [
    "moves = TResults[0][4][0][1]\n",
    "for i in range(len(moves)+1):\n",
    "    clear_output()\n",
    "    print(\"Move \", i)\n",
    "    display(printBoard(movesToBoard(moves[:i])))\n",
    "    input()\n"
   ]
  },
  {
   "cell_type": "markdown",
   "id": "6a7e14bd-6285-446b-ad7a-40f6e200894a",
   "metadata": {},
   "source": [
    "## Interactive"
   ]
  },
  {
   "cell_type": "code",
   "execution_count": null,
   "id": "9f204c26-07b5-42e2-849d-c4b7a1a7b002",
   "metadata": {},
   "outputs": [],
   "source": [
    "def showBoard(board, cols = {1:\"r\", 2:\"g\"}, d=0.1):\n",
    "    plt.xlim(0, len(board))\n",
    "    plt.ylim(0, len(board[0]))\n",
    "    for i in range(len(board)):\n",
    "        for j in range(len(board[i])):\n",
    "            if board[i][j]>0:\n",
    "                plt.fill(i+np.array([d,d,1-d,1-d]),j+np.array([d,1-d,1-d, d]), cols[ board[i][j]])\n",
    "    plt.show()\n",
    "    print(\"Winner: \", getWinner(board))"
   ]
  },
  {
   "cell_type": "code",
   "execution_count": null,
   "id": "dda00c06-efbf-4929-84ed-01160a468cb7",
   "metadata": {},
   "outputs": [],
   "source": [
    "def make_move(board, p):\n",
    "    showBoard(board)\n",
    "    coord = plt.ginput(1)[0]\n",
    "    plt.close()\n",
    "    i = int(np.floor(coord[0]))\n",
    "    j = int(np.floor(coord[1]))\n",
    "    board[i][j]=p"
   ]
  },
  {
   "cell_type": "markdown",
   "id": "ea173509-0af9-48d3-bea9-e753f7bd1524",
   "metadata": {},
   "source": [
    "### computer first"
   ]
  },
  {
   "cell_type": "code",
   "execution_count": null,
   "id": "67923a2e-9405-471f-8119-0ec67c91c1c3",
   "metadata": {},
   "outputs": [],
   "source": [
    "board = initBoard()\n",
    "showBoard(board)"
   ]
  },
  {
   "cell_type": "code",
   "execution_count": null,
   "id": "6da2509a-fadd-4665-b153-f9f7563493a7",
   "metadata": {},
   "outputs": [],
   "source": [
    "move = bestMove(board, model, 1)\n",
    "board[move[0]][move[1]] = 1\n",
    "showBoard(board)"
   ]
  },
  {
   "cell_type": "code",
   "execution_count": null,
   "id": "f186ee7f-9847-432b-b9ed-65ac1187a29a",
   "metadata": {},
   "outputs": [],
   "source": [
    "%matplotlib qt\n",
    "make_move(board,2)\n",
    "%matplotlib inline\n",
    "showBoard(board)"
   ]
  },
  {
   "cell_type": "code",
   "execution_count": null,
   "id": "7714a7e4-04b7-43f5-805b-18df5e1327c9",
   "metadata": {},
   "outputs": [],
   "source": [
    "move = bestMove(board, model, 1)\n",
    "board[move[0]][move[1]] = 1\n",
    "showBoard(board)"
   ]
  },
  {
   "cell_type": "code",
   "execution_count": null,
   "id": "7f8df6ea-e946-43ea-aa1f-a1fb90fada7e",
   "metadata": {},
   "outputs": [],
   "source": [
    "%matplotlib qt\n",
    "make_move(board,2)\n",
    "%matplotlib inline\n",
    "showBoard(board)"
   ]
  },
  {
   "cell_type": "code",
   "execution_count": null,
   "id": "925e06a7-7c7e-488b-9b7f-fdea7034f5e8",
   "metadata": {},
   "outputs": [],
   "source": [
    "move = bestMove(board, model, 1)\n",
    "board[move[0]][move[1]] = 1\n",
    "showBoard(board)"
   ]
  },
  {
   "cell_type": "code",
   "execution_count": null,
   "id": "eb2f9844-80b8-46d4-9e00-c9a185c47c8f",
   "metadata": {},
   "outputs": [],
   "source": [
    "%matplotlib qt\n",
    "make_move(board,2)\n",
    "%matplotlib inline\n",
    "showBoard(board)"
   ]
  },
  {
   "cell_type": "code",
   "execution_count": null,
   "id": "78b2c705-1f33-4594-bebe-c333d57856ad",
   "metadata": {},
   "outputs": [],
   "source": [
    "move = bestMove(board, model, 1)\n",
    "board[move[0]][move[1]] = 1\n",
    "showBoard(board)"
   ]
  },
  {
   "cell_type": "code",
   "execution_count": null,
   "id": "4daa227c-0eed-4796-93e0-2c778c7e44ae",
   "metadata": {},
   "outputs": [],
   "source": [
    "%matplotlib qt\n",
    "make_move(board,2)\n",
    "%matplotlib inline\n",
    "showBoard(board)"
   ]
  },
  {
   "cell_type": "markdown",
   "id": "2e9995c6-f02a-4561-bd26-4c454f442e47",
   "metadata": {},
   "source": [
    "### Human first"
   ]
  },
  {
   "cell_type": "code",
   "execution_count": null,
   "id": "3db2393c-d215-4d03-9289-4ca47bf57003",
   "metadata": {},
   "outputs": [],
   "source": [
    "board = initBoard()\n",
    "showBoard(board)"
   ]
  },
  {
   "cell_type": "code",
   "execution_count": null,
   "id": "6eaf4b1b-df4b-41e7-99e7-1f0125ae0697",
   "metadata": {},
   "outputs": [],
   "source": [
    "%matplotlib qt\n",
    "make_move(board,2)\n",
    "%matplotlib inline\n",
    "showBoard(board)"
   ]
  },
  {
   "cell_type": "code",
   "execution_count": null,
   "id": "ddaee84b-b087-4a76-88d1-d96218659f43",
   "metadata": {},
   "outputs": [],
   "source": [
    "move = bestMove(board, model, 1)\n",
    "board[move[0]][move[1]] = 1\n",
    "showBoard(board)"
   ]
  },
  {
   "cell_type": "code",
   "execution_count": null,
   "id": "542a8492-f964-48f6-9f50-76f1ad75bc2f",
   "metadata": {},
   "outputs": [],
   "source": [
    "%matplotlib qt\n",
    "make_move(board,2)\n",
    "%matplotlib inline\n",
    "showBoard(board)"
   ]
  },
  {
   "cell_type": "code",
   "execution_count": null,
   "id": "a1456d1d-368e-4e9e-8b7d-1ea01bdbecd5",
   "metadata": {},
   "outputs": [],
   "source": [
    "move = bestMove(board, model, 1)\n",
    "board[move[0]][move[1]] = 1\n",
    "showBoard(board)"
   ]
  },
  {
   "cell_type": "code",
   "execution_count": null,
   "id": "9d8c8bc8-96de-4a8a-ae4c-df19fa0b9600",
   "metadata": {},
   "outputs": [],
   "source": [
    "%matplotlib qt\n",
    "make_move(board,2)\n",
    "%matplotlib inline\n",
    "showBoard(board)"
   ]
  },
  {
   "cell_type": "code",
   "execution_count": null,
   "id": "22c8a672-c5ef-4ff9-9594-a9176244eee6",
   "metadata": {},
   "outputs": [],
   "source": [
    "move = bestMove(board, model, 1)\n",
    "board[move[0]][move[1]] = 1\n",
    "showBoard(board)"
   ]
  },
  {
   "cell_type": "code",
   "execution_count": null,
   "id": "c70a57a2-df72-4724-ba8f-0485ccb48744",
   "metadata": {},
   "outputs": [],
   "source": [
    "%matplotlib qt\n",
    "make_move(board,2)\n",
    "%matplotlib inline\n",
    "showBoard(board)"
   ]
  },
  {
   "cell_type": "markdown",
   "id": "035180e2-06eb-4972-8e5e-babb09758835",
   "metadata": {},
   "source": [
    "### Ramdom vs Model"
   ]
  },
  {
   "cell_type": "code",
   "execution_count": null,
   "id": "e8bd3a09-aa12-40c0-bdbe-f3cb15570838",
   "metadata": {},
   "outputs": [],
   "source": [
    "games3= []\n",
    "for n in range(10):\n",
    "    start = time.perf_counter()\n",
    "    games3 += [simulateGame(p2=model) for _ in range(100)]\n",
    "    print(\"n=\", n, \"time=\", (time.perf_counter()-start)/60, \" mins\")"
   ]
  },
  {
   "cell_type": "code",
   "execution_count": null,
   "id": "5804d7b3-7c0f-4e0d-b94b-3fdb067d7a2b",
   "metadata": {},
   "outputs": [],
   "source": [
    "print(\"[games3]=\", len(games4))\n",
    "gameStats(games3)\n",
    "print()\n",
    "gameStats(games3, player=2)"
   ]
  },
  {
   "cell_type": "markdown",
   "id": "e4130773-b459-4541-8916-783a3274d5f4",
   "metadata": {},
   "source": [
    "### Model vs Human"
   ]
  },
  {
   "cell_type": "code",
   "execution_count": null,
   "id": "13a9f470-85ac-4c9f-a337-7f02d546e80d",
   "metadata": {},
   "outputs": [],
   "source": [
    "board = initBoard()\n",
    "move = bestMove(board, model, 1)\n",
    "board[move[0]][move[1]] = 1\n",
    "printBoard(board)"
   ]
  },
  {
   "cell_type": "code",
   "execution_count": null,
   "id": "accfcb38-dd02-4119-b564-046f94cb4756",
   "metadata": {},
   "outputs": [],
   "source": [
    "board[0][0] = 2\n",
    "printBoard(board)"
   ]
  },
  {
   "cell_type": "code",
   "execution_count": null,
   "id": "d08b13fd-131b-45f3-a4c7-7baad5c756a9",
   "metadata": {},
   "outputs": [],
   "source": [
    "move = bestMove(board, model, 1)\n",
    "board[move[0]][move[1]] = 1\n",
    "printBoard(board)"
   ]
  },
  {
   "cell_type": "code",
   "execution_count": null,
   "id": "eb2d8ffe-426b-4759-ba9e-622dd59e90d7",
   "metadata": {},
   "outputs": [],
   "source": [
    "board[1][2] = 2\n",
    "printBoard(board)"
   ]
  },
  {
   "cell_type": "code",
   "execution_count": null,
   "id": "f5f2af44-a152-4cf0-9637-0136099f6664",
   "metadata": {},
   "outputs": [],
   "source": [
    "move = bestMove(board, model, 1)\n",
    "board[move[0]][move[1]] = 1\n",
    "printBoard(board)"
   ]
  },
  {
   "cell_type": "code",
   "execution_count": null,
   "id": "b3a45736-96c9-48ed-b755-f92c45ebdbd0",
   "metadata": {},
   "outputs": [],
   "source": [
    "board[2][0] = 2\n",
    "printBoard(board)"
   ]
  },
  {
   "cell_type": "code",
   "execution_count": null,
   "id": "2c7a00f1-48cb-4162-a6b5-9fa7cc8cd9c7",
   "metadata": {},
   "outputs": [],
   "source": [
    "move = bestMove(board, model, 1)\n",
    "board[move[0]][move[1]] = 1\n",
    "printBoard(board)"
   ]
  },
  {
   "cell_type": "code",
   "execution_count": null,
   "id": "396672ab-1cb6-4e51-b74d-ce57bdaa40c7",
   "metadata": {},
   "outputs": [],
   "source": [
    "board[0][1] = 2\n",
    "printBoard(board)"
   ]
  },
  {
   "cell_type": "code",
   "execution_count": null,
   "id": "e73d2f97-d2c4-4751-a926-2547b42ddbf8",
   "metadata": {},
   "outputs": [],
   "source": [
    "move = bestMove(board, model, 1)\n",
    "board[move[0]][move[1]] = 1\n",
    "printBoard(board)"
   ]
  },
  {
   "cell_type": "markdown",
   "id": "39640771-cd92-476b-8f63-6e0a5a5dd545",
   "metadata": {},
   "source": [
    "### Model vs Human, rnd = 2"
   ]
  },
  {
   "cell_type": "code",
   "execution_count": null,
   "id": "650dcaea-a5fd-41aa-bced-b8ba68a5f0f2",
   "metadata": {},
   "outputs": [],
   "source": [
    "board = initBoard()\n",
    "move = bestMove(board, model, 1, rnd=2)\n",
    "board[move[0]][move[1]] = 1\n",
    "printBoard(board)"
   ]
  },
  {
   "cell_type": "code",
   "execution_count": null,
   "id": "dab148c0-33ec-401e-b61e-5bb46ffc807b",
   "metadata": {},
   "outputs": [],
   "source": [
    "board[1][1] = 2\n",
    "printBoard(board)"
   ]
  },
  {
   "cell_type": "code",
   "execution_count": null,
   "id": "663291d4-56bd-4d79-8b66-069589b28634",
   "metadata": {},
   "outputs": [],
   "source": [
    "move = bestMove(board, model, 1, rnd=2)\n",
    "board[move[0]][move[1]] = 1\n",
    "printBoard(board)"
   ]
  },
  {
   "cell_type": "code",
   "execution_count": null,
   "id": "9bbbc784-9112-4291-becc-35bc5c370f5c",
   "metadata": {},
   "outputs": [],
   "source": [
    "board[0][2] = 2\n",
    "printBoard(board)"
   ]
  },
  {
   "cell_type": "code",
   "execution_count": null,
   "id": "e9792ebf-3644-4248-b5ca-3d7b34a7c386",
   "metadata": {},
   "outputs": [],
   "source": [
    "move = bestMove(board, model, 1, rnd=2)\n",
    "board[move[0]][move[1]] = 1\n",
    "printBoard(board)"
   ]
  },
  {
   "cell_type": "code",
   "execution_count": null,
   "id": "37ce5ddc-f64a-4785-a833-6535cb951eeb",
   "metadata": {},
   "outputs": [],
   "source": [
    "board[2][1] = 2\n",
    "printBoard(board)"
   ]
  },
  {
   "cell_type": "code",
   "execution_count": null,
   "id": "34334643-be5a-4fd1-975c-87e7408035b0",
   "metadata": {},
   "outputs": [],
   "source": [
    "move = bestMove(board, model, 2)\n",
    "board[move[0]][move[1]] = 1\n",
    "printBoard(board)"
   ]
  },
  {
   "cell_type": "code",
   "execution_count": null,
   "id": "62640d15-2a8e-432d-9eaa-d295e74b1dfb",
   "metadata": {},
   "outputs": [],
   "source": [
    "board[0][0] = 2\n",
    "printBoard(board)"
   ]
  },
  {
   "cell_type": "code",
   "execution_count": null,
   "id": "ec41a362-221f-4aa0-a016-ccc5ebd992ed",
   "metadata": {},
   "outputs": [],
   "source": [
    "move = bestMove(board, model, 1)\n",
    "board[move[0]][move[1]] = 1\n",
    "printBoard(board)"
   ]
  },
  {
   "cell_type": "markdown",
   "id": "bc08d0ec-4b3b-43fb-a408-124e8d8bf04a",
   "metadata": {},
   "source": [
    "### Human vs Model"
   ]
  },
  {
   "cell_type": "code",
   "execution_count": null,
   "id": "27cbad77-dbfa-4751-912d-604c224f2d97",
   "metadata": {},
   "outputs": [],
   "source": [
    "board = initBoard()\n",
    "board[0][0]=1\n",
    "printBoard(board)"
   ]
  },
  {
   "cell_type": "code",
   "execution_count": null,
   "id": "7121bc20-c1e5-4a06-a8d3-f63e14750ff3",
   "metadata": {},
   "outputs": [],
   "source": [
    "move = bestMove(board, model, 2)\n",
    "board[move[0]][move[1]] = 2\n",
    "printBoard(board)"
   ]
  },
  {
   "cell_type": "code",
   "execution_count": null,
   "id": "7e9fbb6c-bf5a-439b-a7d4-9c95f3778b18",
   "metadata": {},
   "outputs": [],
   "source": [
    "board[1][0] = 1\n",
    "printBoard(board)"
   ]
  },
  {
   "cell_type": "code",
   "execution_count": null,
   "id": "5b9c6c6e-653a-428e-bade-73b425f57a70",
   "metadata": {},
   "outputs": [],
   "source": [
    "move = bestMove(board, model, 2)\n",
    "board[move[0]][move[1]] = 2\n",
    "printBoard(board)"
   ]
  },
  {
   "cell_type": "code",
   "execution_count": null,
   "id": "738af60e-047d-41ee-9a80-306feb3c9c2f",
   "metadata": {},
   "outputs": [],
   "source": [
    "board[0][2] = 1\n",
    "printBoard(board)"
   ]
  },
  {
   "cell_type": "code",
   "execution_count": null,
   "id": "ebeb171b-b8e2-4df5-917d-8b0a9fead9b4",
   "metadata": {},
   "outputs": [],
   "source": [
    "move = bestMove(board, model, 2)\n",
    "board[move[0]][move[1]] = 2\n",
    "printBoard(board)"
   ]
  },
  {
   "cell_type": "code",
   "execution_count": null,
   "id": "665f965e-6fa3-49f7-b3eb-c58169edeb2c",
   "metadata": {},
   "outputs": [],
   "source": [
    "board[0][1] = 1\n",
    "printBoard(board)"
   ]
  },
  {
   "cell_type": "markdown",
   "id": "2c433841-146f-401c-ae7e-619bec5f322d",
   "metadata": {},
   "source": [
    "### Model vs Model"
   ]
  },
  {
   "cell_type": "code",
   "execution_count": null,
   "id": "ac037091-ccdc-41b3-b87e-d384aca8bcc8",
   "metadata": {},
   "outputs": [],
   "source": [
    "games4= []"
   ]
  },
  {
   "cell_type": "code",
   "execution_count": null,
   "id": "076c7083-9b31-4da9-a689-d782e9a30eaf",
   "metadata": {},
   "outputs": [],
   "source": [
    "for n in range(10):\n",
    "    start = time.perf_counter()\n",
    "    games4 += [simulateGame(p1=model, p2=model) for _ in range(100)]\n",
    "    print(\"n=\", n, \"time=\", (time.perf_counter()-start)/60, \" mins\")"
   ]
  },
  {
   "cell_type": "code",
   "execution_count": null,
   "id": "8d21fc48-07b7-4216-b260-666de4fe2d7b",
   "metadata": {},
   "outputs": [],
   "source": [
    "print(\"[games4]=\", len(games4))\n",
    "gameStats(games4)\n",
    "print()\n",
    "gameStats(games4, player=4)"
   ]
  },
  {
   "cell_type": "code",
   "execution_count": null,
   "id": "cfc994e6-94e2-491d-9df3-e17cf122ebe2",
   "metadata": {},
   "outputs": [],
   "source": [
    "printBoard(movesToBoard(games2[20]))"
   ]
  },
  {
   "cell_type": "code",
   "execution_count": null,
   "id": "b70f123f-ad44-4d03-8c3b-1fdf24a71f71",
   "metadata": {},
   "outputs": [],
   "source": []
  }
 ],
 "metadata": {
  "kernelspec": {
   "display_name": "Python 3 (ipykernel)",
   "language": "python",
   "name": "python3"
  },
  "language_info": {
   "codemirror_mode": {
    "name": "ipython",
    "version": 3
   },
   "file_extension": ".py",
   "mimetype": "text/x-python",
   "name": "python",
   "nbconvert_exporter": "python",
   "pygments_lexer": "ipython3",
   "version": "3.8.12"
  }
 },
 "nbformat": 4,
 "nbformat_minor": 5
}
