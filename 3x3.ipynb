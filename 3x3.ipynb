{
 "cells": [
  {
   "cell_type": "code",
   "execution_count": 1,
   "id": "92067913-7808-49c7-b953-5a8f09c2caec",
   "metadata": {},
   "outputs": [
    {
     "name": "stderr",
     "output_type": "stream",
     "text": [
      "2022-11-20 10:33:15.856414: I tensorflow/core/platform/cpu_feature_guard.cc:193] This TensorFlow binary is optimized with oneAPI Deep Neural Network Library (oneDNN) to use the following CPU instructions in performance-critical operations:  AVX2 FMA\n",
      "To enable them in other operations, rebuild TensorFlow with the appropriate compiler flags.\n"
     ]
    }
   ],
   "source": [
    "import numpy as np\n",
    "import numpy.random as random\n",
    "import importlib\n",
    "import tqdm\n",
    "import time\n",
    "import keras\n",
    "import pickle\n",
    "from IPython.display import display, clear_output"
   ]
  },
  {
   "cell_type": "code",
   "execution_count": 2,
   "id": "77680cc6-b1a9-4409-9056-5fbbd65f2a3a",
   "metadata": {},
   "outputs": [
    {
     "name": "stdout",
     "output_type": "stream",
     "text": [
      "Simple  5 x 5 game\n"
     ]
    }
   ],
   "source": [
    "import tttn_funcs as T"
   ]
  },
  {
   "cell_type": "code",
   "execution_count": 3,
   "id": "e66117f9-5031-4116-8e05-3e58edad0f71",
   "metadata": {},
   "outputs": [],
   "source": [
    "import importlib"
   ]
  },
  {
   "cell_type": "code",
   "execution_count": 14,
   "id": "5bb7eeb0-339a-4361-8f4a-e9e5d56d4fe2",
   "metadata": {},
   "outputs": [
    {
     "name": "stdout",
     "output_type": "stream",
     "text": [
      "Simple  5 x 5 game\n"
     ]
    },
    {
     "data": {
      "text/plain": [
       "<module 'tttn_funcs' from '/Users/luchinsky/Library/CloudStorage/OneDrive-BowlingGreenStateUniversity/STUDY/DataScience/PhD_DS/Fall_2022/DATA7300_Tian/final_project/data7300_final_python/tttn_funcs.py'>"
      ]
     },
     "execution_count": 14,
     "metadata": {},
     "output_type": "execute_result"
    }
   ],
   "source": [
    "importlib.reload(T)"
   ]
  },
  {
   "cell_type": "code",
   "execution_count": 15,
   "id": "b574eb05-c513-4d15-b46e-2d345d2b640d",
   "metadata": {},
   "outputs": [],
   "source": [
    "T.N = 3"
   ]
  },
  {
   "cell_type": "code",
   "execution_count": 16,
   "id": "a6868146-9f8a-41f6-9197-2b91992ed3e3",
   "metadata": {},
   "outputs": [
    {
     "data": {
      "text/plain": [
       "array([[0, 0, 0],\n",
       "       [0, 0, 0],\n",
       "       [0, 0, 0]])"
      ]
     },
     "execution_count": 16,
     "metadata": {},
     "output_type": "execute_result"
    }
   ],
   "source": [
    "T.initBoard()"
   ]
  },
  {
   "cell_type": "code",
   "execution_count": 18,
   "id": "f90103ab-b15f-4811-b59e-78931a417fe2",
   "metadata": {},
   "outputs": [],
   "source": [
    "board0 = T.initBoard();\n",
    "T.masks = T.initMasks( board0)"
   ]
  },
  {
   "cell_type": "code",
   "execution_count": 28,
   "id": "278a34b2-88be-49eb-b48c-53c9b812da29",
   "metadata": {},
   "outputs": [
    {
     "name": "stdout",
     "output_type": "stream",
     "text": [
      "|X \u001b[31m0\u001b[0m   |\n",
      "|  \u001b[31m0\u001b[0m   |\n",
      "|X \u001b[31m0\u001b[0m X |\n",
      "Winner: 2\n"
     ]
    }
   ],
   "source": [
    "T.printBoard(T.movesToBoard(T.simulateGame()))"
   ]
  },
  {
   "cell_type": "code",
   "execution_count": null,
   "id": "932815a9-c0f1-410e-bfd6-fa2285013ffb",
   "metadata": {},
   "outputs": [],
   "source": []
  }
 ],
 "metadata": {
  "kernelspec": {
   "display_name": "Python 3 (ipykernel)",
   "language": "python",
   "name": "python3"
  },
  "language_info": {
   "codemirror_mode": {
    "name": "ipython",
    "version": 3
   },
   "file_extension": ".py",
   "mimetype": "text/x-python",
   "name": "python",
   "nbconvert_exporter": "python",
   "pygments_lexer": "ipython3",
   "version": "3.8.12"
  }
 },
 "nbformat": 4,
 "nbformat_minor": 5
}
