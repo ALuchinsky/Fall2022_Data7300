{
 "cells": [
  {
   "cell_type": "code",
   "execution_count": 51,
   "id": "cdbbb176-c1c2-4985-a20d-26d15dd3c43c",
   "metadata": {},
   "outputs": [],
   "source": [
    "import numpy as np\n",
    "import numpy.random as random\n",
    "import importlib\n",
    "import tqdm\n",
    "import time\n",
    "import keras\n",
    "import pickle\n",
    "from IPython.display import display, clear_output"
   ]
  },
  {
   "cell_type": "code",
   "execution_count": 2,
   "id": "4c44ec3b-9dac-481a-8808-e197ba887fde",
   "metadata": {},
   "outputs": [
    {
     "name": "stderr",
     "output_type": "stream",
     "text": [
      "2022-11-19 07:05:35.767811: I tensorflow/core/platform/cpu_feature_guard.cc:193] This TensorFlow binary is optimized with oneAPI Deep Neural Network Library (oneDNN) to use the following CPU instructions in performance-critical operations:  AVX2 FMA\n",
      "To enable them in other operations, rebuild TensorFlow with the appropriate compiler flags.\n"
     ]
    }
   ],
   "source": [
    "import tttn_funcs as T"
   ]
  },
  {
   "cell_type": "code",
   "execution_count": 67,
   "id": "9b1f98ed-bae4-4954-84c7-d0e95b8209c7",
   "metadata": {},
   "outputs": [
    {
     "name": "stdout",
     "output_type": "stream",
     "text": [
      "Simple  5 x 5 game\n"
     ]
    }
   ],
   "source": [
    "importlib.reload(T);"
   ]
  },
  {
   "cell_type": "code",
   "execution_count": 9,
   "id": "fdd95b53-f41d-47bc-9e09-abec8d45b77f",
   "metadata": {},
   "outputs": [],
   "source": [
    "import os"
   ]
  },
  {
   "cell_type": "code",
   "execution_count": 11,
   "id": "360a1d5c-60b5-4fda-8a27-0562c1c0e465",
   "metadata": {},
   "outputs": [],
   "source": [
    "os.chdir(\"./final_results/5x5_FCN/d_1/\")"
   ]
  },
  {
   "cell_type": "code",
   "execution_count": 4,
   "id": "052e5cb6-09ae-4255-ae47-46f148a87a89",
   "metadata": {},
   "outputs": [
    {
     "name": "stderr",
     "output_type": "stream",
     "text": [
      "100%|████████████████████████████████████████████████████████████████████████████████████████████████████████████████████████████████████████████████████████████████████| 10000/10000 [01:24<00:00, 118.26it/s]"
     ]
    },
    {
     "name": "stdout",
     "output_type": "stream",
     "text": [
      "84.571753793 secs\n"
     ]
    },
    {
     "name": "stderr",
     "output_type": "stream",
     "text": [
      "\n"
     ]
    }
   ],
   "source": [
    "start_time = time.perf_counter()\n",
    "games = [T.simulateGame() for _ in tqdm.tqdm(range(10000))]\n",
    "print( time.perf_counter() - start_time, \"secs\")"
   ]
  },
  {
   "cell_type": "code",
   "execution_count": 22,
   "id": "7107e3e9-c2fe-4c23-8f87-69042ef58fdc",
   "metadata": {},
   "outputs": [
    {
     "name": "stdout",
     "output_type": "stream",
     "text": [
      "2.3911762410000392 secs\n"
     ]
    }
   ],
   "source": [
    "start_time = time.perf_counter()\n",
    "model = T.getModel()\n",
    "X_train, X_test, y_train, y_test = T.gamesToWinLossData(games)\n",
    "# history = model.fit(X_train, y_train, validation_data=(X_test, y_test), epochs=100, batch_size=100)\n",
    "# model.save_weights(\"./model\")\n",
    "model.load_weights(\"./model\").expect_partial()\n",
    "model.save_weights(\"./epoch_0/model\")\n",
    "print( time.perf_counter() - start_time, \"secs\")"
   ]
  },
  {
   "cell_type": "code",
   "execution_count": null,
   "id": "a2794e2e-d61d-499c-9b56-b2f267a9a14b",
   "metadata": {},
   "outputs": [],
   "source": []
  },
  {
   "cell_type": "code",
   "execution_count": 35,
   "id": "857c708a-7ea2-42c9-ab89-d3bbe372d0e5",
   "metadata": {},
   "outputs": [],
   "source": [
    "epoch = 1\n",
    "\n",
    "dir_name = \"./epoch_\"+str(epoch)+\"/\"\n",
    "#if not os.path.exists(dir_name):\n",
    "os.makedirs(dir_name)\n",
    "#\n",
    "old_model = T.getModel()\n",
    "old_model.load_weights(\"./epoch_\"+str(epoch-1)+\"/model\").expect_partial();\n",
    "new_model = keras.models.clone_and_build_model(old_model)\n",
    "print(\"Simulation\")\n",
    "new_t_games, n_fault = T.gen_tournament(p1=new_model, p2=old_model, n=100, rnd=0.9)\n",
    "with open(dir_name+\"/t_games.dat\", \"wb\") as file:\n",
    "    pickle.dump(new_t_games, file)\n",
    "# #\n",
    "\n",
    "print(\"Training new model\")\n",
    "X_train, X_test, y_train, y_test = T.gamesToWinLossData( [g[1] for g in new_t_games], train_ratio=0.99 )\n",
    "new_model.fit(X_train, y_train, validation_data=(X_test, y_test), epochs=100, batch_size=100, verbose = 0)\n",
    "new_model.save_weights(dir_name+\"/model\")"
   ]
  },
  {
   "cell_type": "code",
   "execution_count": 36,
   "id": "95e0dcde-8bce-4f94-bfa1-f82195eb3883",
   "metadata": {},
   "outputs": [
    {
     "name": "stdout",
     "output_type": "stream",
     "text": [
      "Simulation\n"
     ]
    },
    {
     "name": "stderr",
     "output_type": "stream",
     "text": [
      "100%|█████████████████████████████████████████████████████████████████████████████████████████████████████████████████████████████████████████████████████████████████████████| 100/100 [10:59<00:00,  6.60s/it]\n"
     ]
    },
    {
     "name": "stdout",
     "output_type": "stream",
     "text": [
      "Training new model\n",
      "664.016752255 Seconds\n"
     ]
    }
   ],
   "source": [
    "start_time = time.perf_counter()\n",
    "epoch = 2\n",
    "\n",
    "dir_name = \"./epoch_\"+str(epoch)+\"/\"\n",
    "#if not os.path.exists(dir_name):\n",
    "os.makedirs(dir_name)\n",
    "#\n",
    "old_model = T.getModel()\n",
    "old_model.load_weights(\"./epoch_\"+str(epoch-1)+\"/model\").expect_partial();\n",
    "new_model = keras.models.clone_and_build_model(old_model)\n",
    "print(\"Simulation\")\n",
    "new_t_games, n_fault = T.gen_tournament(p1=new_model, p2=old_model, n=100, rnd=0.9)\n",
    "with open(dir_name+\"/t_games.dat\", \"wb\") as file:\n",
    "    pickle.dump(new_t_games, file)\n",
    "# #\n",
    "\n",
    "print(\"Training new model\")\n",
    "X_train, X_test, y_train, y_test = T.gamesToWinLossData( [g[1] for g in new_t_games], train_ratio=0.99 )\n",
    "new_model.fit(X_train, y_train, validation_data=(X_test, y_test), epochs=100, batch_size=100, verbose = 0)\n",
    "new_model.save_weights(dir_name+\"/model\")\n",
    "print(time.perf_counter() - start_time, \"Seconds\")"
   ]
  },
  {
   "cell_type": "code",
   "execution_count": 57,
   "id": "edbe5271-927f-4a1d-b179-f5588268b18e",
   "metadata": {},
   "outputs": [
    {
     "name": "stdout",
     "output_type": "stream",
     "text": [
      "|  X X \u001b[31m0\u001b[0m \u001b[31m0\u001b[0m |\n",
      "|      \u001b[31m0\u001b[0m \u001b[31m0\u001b[0m |\n",
      "|X X   \u001b[31m0\u001b[0m \u001b[31m0\u001b[0m |\n",
      "|    X \u001b[31m0\u001b[0m X |\n",
      "|\u001b[31m0\u001b[0m X X \u001b[31m0\u001b[0m X |\n",
      "Winner: 2\n"
     ]
    },
    {
     "data": {
      "text/plain": [
       "None"
      ]
     },
     "metadata": {},
     "output_type": "display_data"
    },
    {
     "name": "stdin",
     "output_type": "stream",
     "text": [
      " \n"
     ]
    }
   ],
   "source": [
    "g = new_t_games[2][1]\n",
    "for i in range(1, len(g)+1):\n",
    "    clear_output()\n",
    "    display(T.printMoves(g[:i]))\n",
    "    input()"
   ]
  },
  {
   "cell_type": "code",
   "execution_count": 66,
   "id": "76e6f3f4-ad01-4733-8518-41c1acf9a87d",
   "metadata": {},
   "outputs": [
    {
     "name": "stdout",
     "output_type": "stream",
     "text": [
      "Play between  0  and  0 \t(nD, nW1, nW2)= (1, 0, 0)  n_faults= 0\n",
      "Play between  0  and  1 \t(nD, nW1, nW2)= (0, 1, 0)  n_faults= 0\n",
      "Play between  0  and  2 \t(nD, nW1, nW2)= (0, 1, 0)  n_faults= 0\n",
      "Play between  1  and  1 \t(nD, nW1, nW2)= (0, 0, 1)  n_faults= 0\n",
      "Play between  1  and  2 \t(nD, nW1, nW2)= (1, 0, 0)  n_faults= 0\n",
      "Play between  2  and  2 \t(nD, nW1, nW2)= (0, 0, 1)  n_faults= 0\n"
     ]
    }
   ],
   "source": [
    "n_models = 3\n",
    "TResults = [[0 for e1 in range(n_models)] for e2 in range(n_models)]\n",
    "for e1 in range(n_models):\n",
    "    model1 = T.getModel()\n",
    "    model1.load_weights(\"./epoch_\"+str(e1)+\"/model\").expect_partial()\n",
    "    for e2 in range(e1, n_models):\n",
    "        print(\"Play between \", e1, \" and \", e2,\"\\t\", end=\"\")\n",
    "        model2 = T.getModel()\n",
    "        model1.load_weights(\"./epoch_\"+str(e2)+\"/model\").expect_partial()\n",
    "        tg, n_faults = T.gen_tournament(p1=model1, p2=model2, n=1, rnd=0, tqdm_disable=True)\n",
    "        TResults[e1][e2]=tg\n",
    "        winners = np.array([g[0] for g in tg])\n",
    "        nDraws = np.sum(winners == 0)\n",
    "        nW1 = np.sum(winners == 1)\n",
    "        nW2 = np.sum(winners == 2)\n",
    "        print(\"(nD, nW1, nW2)=\", (nDraws, nW1, nW2), \" n_faults=\", n_faults)\n",
    "        "
   ]
  },
  {
   "cell_type": "markdown",
   "id": "a7af124b-8161-4dd9-8b45-6a0856f86e1c",
   "metadata": {},
   "source": [
    "## CNN model"
   ]
  },
  {
   "cell_type": "code",
   "execution_count": 222,
   "id": "2c607cb5-05cd-4139-bfbb-b7b95557d6ec",
   "metadata": {},
   "outputs": [
    {
     "name": "stdout",
     "output_type": "stream",
     "text": [
      "Model: \"sequential_93\"\n",
      "_________________________________________________________________\n",
      " Layer (type)                Output Shape              Param #   \n",
      "=================================================================\n",
      " reshape_106 (Reshape)       (None, 5, 5, 1)           0         \n",
      "                                                                 \n",
      " conv2d_44 (Conv2D)          (None, 5, 5, 32)          320       \n",
      "                                                                 \n",
      " reshape_107 (Reshape)       (None, 1, 800)            0         \n",
      "                                                                 \n",
      " batch_normalization_90 (Bat  (None, 1, 800)           3200      \n",
      " chNormalization)                                                \n",
      "                                                                 \n",
      " dense_291 (Dense)           (None, 1, 100)            80100     \n",
      "                                                                 \n",
      " batch_normalization_91 (Bat  (None, 1, 100)           400       \n",
      " chNormalization)                                                \n",
      "                                                                 \n",
      " dense_292 (Dense)           (None, 1, 20)             2020      \n",
      "                                                                 \n",
      " batch_normalization_92 (Bat  (None, 1, 20)            80        \n",
      " chNormalization)                                                \n",
      "                                                                 \n",
      " dense_293 (Dense)           (None, 1, 3)              63        \n",
      "                                                                 \n",
      " reshape_108 (Reshape)       (None, 3)                 0         \n",
      "                                                                 \n",
      "=================================================================\n",
      "Total params: 86,183\n",
      "Trainable params: 84,343\n",
      "Non-trainable params: 1,840\n",
      "_________________________________________________________________\n"
     ]
    }
   ],
   "source": [
    "def getCNNModel():\n",
    "    board = T.initBoard()\n",
    "    numCells = len(board)*len(board[0])\n",
    "    num_rows = len(board)\n",
    "    outcomes = 3\n",
    "    CNNmodel = keras.models.Sequential()\n",
    "    CNNmodel.add( keras.layers.InputLayer(input_shape=(numCells, )))\n",
    "    CNNmodel.add( keras.layers.Reshape( target_shape = (num_rows, num_rows, 1)))\n",
    "    CNNmodel.add( keras.layers.Conv2D(filters = 32, kernel_size = 3, padding = \"same\"))\n",
    "    CNNmodel.add( keras.layers.Reshape( target_shape = (1,5*5*32)))\n",
    "    CNNmodel.add( keras.layers.BatchNormalization())\n",
    "    CNNmodel.add( keras.layers.Dense(100, activation = \"relu\"))\n",
    "    CNNmodel.add( keras.layers.BatchNormalization())\n",
    "    CNNmodel.add( keras.layers.Dense(20, activation = \"relu\"))\n",
    "    CNNmodel.add( keras.layers.BatchNormalization())\n",
    "    CNNmodel.add( keras.layers.Dense(3, activation = \"relu\"))\n",
    "    CNNmodel.compile(loss='categorical_crossentropy', optimizer='rmsprop', metrics=['acc'])\n",
    "    CNNmodel.add( keras.layers.Reshape(target_shape=(3,)))\n",
    "    # training the model\n",
    "    # CNNmodel.compile(loss = keras.losses.categorical_crossentropy,\n",
    "    #           optimizer = keras.optimizers.SGD(lr = 0.01),\n",
    "    #           metrics =['accuracy'])\n",
    "    CNNmodel.compile(optimizer='adam',\n",
    "                  loss=keras.losses.MeanSquaredError(),\n",
    "                  metrics=['accuracy'])\n",
    "#    [CNNmodel.input_shape, CNNmodel.output_shape]\n",
    "    return CNNmodel\n",
    "getCNNModel().summary()"
   ]
  },
  {
   "cell_type": "code",
   "execution_count": 208,
   "id": "e86f774f-5904-4aaa-a228-bd5787e21b6e",
   "metadata": {},
   "outputs": [
    {
     "name": "stdout",
     "output_type": "stream",
     "text": [
      "/Users/luchinsky/Work/DATA7300_Tian/DATA7300_Tian_Final/final_results/5x5_CNN/d_1\n"
     ]
    }
   ],
   "source": [
    "print(os.getcwd())\n",
    "os.chdir(\"../../5x5_CNN/d_1\")"
   ]
  },
  {
   "cell_type": "code",
   "execution_count": 223,
   "id": "80a1674b-1611-4ec7-b6ba-0690052eddf5",
   "metadata": {},
   "outputs": [
    {
     "name": "stdout",
     "output_type": "stream",
     "text": [
      "2.5542090680010006 secs\n"
     ]
    }
   ],
   "source": [
    "start_time = time.perf_counter()\n",
    "cnnModel = getCNNModel()\n",
    "X_train, X_test, y_train, y_test = T.gamesToWinLossData(games)\n",
    "# history = cnnModel.fit(X_train, y_train, validation_data=(X_test, y_test), epochs=100, batch_size=100)\n",
    "# cnnModel.save_weights(\"./model\")\n",
    "cnnModel.load_weights(\"./model\").expect_partial()\n",
    "cnnModel.save_weights(\"./epoch_0/model\")\n",
    "print( time.perf_counter() - start_time, \"secs\")"
   ]
  },
  {
   "cell_type": "code",
   "execution_count": 233,
   "id": "80fcb67b-e2a3-408d-a09d-df99a4340b64",
   "metadata": {},
   "outputs": [
    {
     "name": "stdout",
     "output_type": "stream",
     "text": [
      "Simulation\n"
     ]
    },
    {
     "name": "stderr",
     "output_type": "stream",
     "text": [
      "100%|█████████████████████████████████████████████████████████████████████████████████████████████████████████████████████████████████████████████████████████████████████████| 100/100 [12:13<00:00,  7.34s/it]\n"
     ]
    },
    {
     "name": "stdout",
     "output_type": "stream",
     "text": [
      "Training new model\n"
     ]
    }
   ],
   "source": [
    "epoch = 1\n",
    "\n",
    "dir_name = \"./epoch_\"+str(epoch)+\"/\"\n",
    "#if not os.path.exists(dir_name):\n",
    "os.makedirs(dir_name)\n",
    "#\n",
    "old_model = getCNNModel()\n",
    "old_model.load_weights(\"./epoch_\"+str(epoch-1)+\"/model\").expect_partial();\n",
    "new_model = keras.models.clone_and_build_model(old_model)\n",
    "print(\"Simulation\")\n",
    "new_t_games, n_fault = T.gen_tournament(p1=new_model, p2=old_model, n=100, rnd=0.9)\n",
    "with open(dir_name+\"/t_games.dat\", \"wb\") as file:\n",
    "    pickle.dump(new_t_games, file)\n",
    "# #\n",
    "\n",
    "print(\"Training new model\")\n",
    "X_train, X_test, y_train, y_test = T.gamesToWinLossData( [g[1] for g in new_t_games], train_ratio=0.99 )\n",
    "new_model.fit(X_train, y_train, validation_data=(X_test, y_test), epochs=100, batch_size=100, verbose = 0)\n",
    "new_model.save_weights(dir_name+\"/model\")"
   ]
  },
  {
   "cell_type": "code",
   "execution_count": 234,
   "id": "f049de67-ae97-4184-a9ab-629f45603805",
   "metadata": {},
   "outputs": [
    {
     "name": "stdout",
     "output_type": "stream",
     "text": [
      "Simulation\n"
     ]
    },
    {
     "name": "stderr",
     "output_type": "stream",
     "text": [
      "100%|█████████████████████████████████████████████████████████████████████████████████████████████████████████████████████████████████████████████████████████████████████████| 100/100 [10:13<00:00,  6.14s/it]\n"
     ]
    },
    {
     "name": "stdout",
     "output_type": "stream",
     "text": [
      "Training new model\n"
     ]
    }
   ],
   "source": [
    "epoch = 2\n",
    "\n",
    "dir_name = \"./epoch_\"+str(epoch)+\"/\"\n",
    "#if not os.path.exists(dir_name):\n",
    "os.makedirs(dir_name)\n",
    "#\n",
    "old_model = getCNNModel()\n",
    "old_model.load_weights(\"./epoch_\"+str(epoch-1)+\"/model\").expect_partial();\n",
    "new_model = keras.models.clone_and_build_model(old_model)\n",
    "print(\"Simulation\")\n",
    "new_t_games, n_fault = T.gen_tournament(p1=new_model, p2=old_model, n=100, rnd=0.9)\n",
    "with open(dir_name+\"/t_games.dat\", \"wb\") as file:\n",
    "    pickle.dump(new_t_games, file)\n",
    "# #\n",
    "\n",
    "print(\"Training new model\")\n",
    "X_train, X_test, y_train, y_test = T.gamesToWinLossData( [g[1] for g in new_t_games], train_ratio=0.99 )\n",
    "new_model.fit(X_train, y_train, validation_data=(X_test, y_test), epochs=100, batch_size=100, verbose = 0)\n",
    "new_model.save_weights(dir_name+\"/model\")"
   ]
  },
  {
   "cell_type": "code",
   "execution_count": 235,
   "id": "2896dead-275c-496e-bb03-ac29ff8581d3",
   "metadata": {},
   "outputs": [
    {
     "name": "stdout",
     "output_type": "stream",
     "text": [
      "Simulation\n"
     ]
    },
    {
     "name": "stderr",
     "output_type": "stream",
     "text": [
      "100%|█████████████████████████████████████████████████████████████████████████████████████████████████████████████████████████████████████████████████████████████████████████| 100/100 [12:38<00:00,  7.59s/it]\n"
     ]
    },
    {
     "name": "stdout",
     "output_type": "stream",
     "text": [
      "Training new model\n"
     ]
    }
   ],
   "source": [
    "epoch = 3\n",
    "\n",
    "dir_name = \"./epoch_\"+str(epoch)+\"/\"\n",
    "#if not os.path.exists(dir_name):\n",
    "os.makedirs(dir_name)\n",
    "#\n",
    "old_model = getCNNModel()\n",
    "old_model.load_weights(\"./epoch_\"+str(epoch-1)+\"/model\").expect_partial();\n",
    "new_model = keras.models.clone_and_build_model(old_model)\n",
    "print(\"Simulation\")\n",
    "new_t_games, n_fault = T.gen_tournament(p1=new_model, p2=old_model, n=100, rnd=0.9)\n",
    "with open(dir_name+\"/t_games.dat\", \"wb\") as file:\n",
    "    pickle.dump(new_t_games, file)\n",
    "# #\n",
    "\n",
    "print(\"Training new model\")\n",
    "X_train, X_test, y_train, y_test = T.gamesToWinLossData( [g[1] for g in new_t_games], train_ratio=0.99 )\n",
    "new_model.fit(X_train, y_train, validation_data=(X_test, y_test), epochs=100, batch_size=100, verbose = 0)\n",
    "new_model.save_weights(dir_name+\"/model\")"
   ]
  },
  {
   "cell_type": "code",
   "execution_count": 309,
   "id": "fd80426e-5791-4da6-8572-3d5ca1bff546",
   "metadata": {},
   "outputs": [
    {
     "name": "stdout",
     "output_type": "stream",
     "text": [
      "Simulation\n"
     ]
    },
    {
     "name": "stderr",
     "output_type": "stream",
     "text": [
      "100%|█████████████████████████████████████████████████████████████████████████████████████████████████████████████████████████████████████████████████████████████████████████| 100/100 [12:07<00:00,  7.27s/it]\n"
     ]
    },
    {
     "name": "stdout",
     "output_type": "stream",
     "text": [
      "Training new model\n"
     ]
    }
   ],
   "source": [
    "epoch = 4\n",
    "\n",
    "dir_name = \"./epoch_\"+str(epoch)+\"/\"\n",
    "#if not os.path.exists(dir_name):\n",
    "os.makedirs(dir_name)\n",
    "#\n",
    "old_model = getCNNModel()\n",
    "old_model.load_weights(\"./epoch_\"+str(epoch-1)+\"/model\").expect_partial();\n",
    "new_model = keras.models.clone_and_build_model(old_model)\n",
    "print(\"Simulation\")\n",
    "new_t_games, n_fault = T.gen_tournament(p1=new_model, p2=old_model, n=100, rnd=0.9)\n",
    "with open(dir_name+\"/t_games.dat\", \"wb\") as file:\n",
    "    pickle.dump(new_t_games, file)\n",
    "# #\n",
    "\n",
    "print(\"Training new model\")\n",
    "X_train, X_test, y_train, y_test = T.gamesToWinLossData( [g[1] for g in new_t_games], train_ratio=0.99 )\n",
    "new_model.fit(X_train, y_train, validation_data=(X_test, y_test), epochs=100, batch_size=100, verbose = 0)\n",
    "new_model.save_weights(dir_name+\"/model\")"
   ]
  },
  {
   "cell_type": "code",
   "execution_count": 310,
   "id": "808ac13a-d61e-4385-a7fc-752f4d86c6d9",
   "metadata": {},
   "outputs": [
    {
     "name": "stdout",
     "output_type": "stream",
     "text": [
      "Simulation\n"
     ]
    },
    {
     "name": "stderr",
     "output_type": "stream",
     "text": [
      "100%|█████████████████████████████████████████████████████████████████████████████████████████████████████████████████████████████████████████████████████████████████████████| 100/100 [12:47<00:00,  7.67s/it]\n"
     ]
    },
    {
     "name": "stdout",
     "output_type": "stream",
     "text": [
      "Training new model\n"
     ]
    }
   ],
   "source": [
    "epoch = 5\n",
    "\n",
    "dir_name = \"./epoch_\"+str(epoch)+\"/\"\n",
    "#if not os.path.exists(dir_name):\n",
    "os.makedirs(dir_name)\n",
    "#\n",
    "old_model = getCNNModel()\n",
    "old_model.load_weights(\"./epoch_\"+str(epoch-1)+\"/model\").expect_partial();\n",
    "new_model = keras.models.clone_and_build_model(old_model)\n",
    "print(\"Simulation\")\n",
    "new_t_games, n_fault = T.gen_tournament(p1=new_model, p2=old_model, n=100, rnd=0.5)\n",
    "with open(dir_name+\"/t_games.dat\", \"wb\") as file:\n",
    "    pickle.dump(new_t_games, file)\n",
    "# #\n",
    "\n",
    "print(\"Training new model\")\n",
    "X_train, X_test, y_train, y_test = T.gamesToWinLossData( [g[1] for g in new_t_games], train_ratio=0.99 )\n",
    "new_model.fit(X_train, y_train, validation_data=(X_test, y_test), epochs=100, batch_size=100, verbose = 0)\n",
    "new_model.save_weights(dir_name+\"/model\")"
   ]
  },
  {
   "cell_type": "code",
   "execution_count": 311,
   "id": "855e4368-b121-4bde-90f9-871a56b37d21",
   "metadata": {},
   "outputs": [
    {
     "name": "stdout",
     "output_type": "stream",
     "text": [
      "Play between  0  and  0 \t(nD, nW1, nW2)= (0, 1, 0)  n_faults= 0\n",
      "Play between  0  and  1 \t(nD, nW1, nW2)= (0, 1, 0)  n_faults= 0\n",
      "Play between  0  and  2 \t(nD, nW1, nW2)= (1, 0, 0)  n_faults= 0\n",
      "Play between  0  and  3 \t(nD, nW1, nW2)= (1, 0, 0)  n_faults= 0\n",
      "Play between  0  and  4 \t(nD, nW1, nW2)= (1, 0, 0)  n_faults= 0\n",
      "Play between  1  and  1 \t(nD, nW1, nW2)= (1, 0, 0)  n_faults= 0\n",
      "Play between  1  and  2 \t(nD, nW1, nW2)= (1, 0, 0)  n_faults= 0\n",
      "Play between  1  and  3 \t(nD, nW1, nW2)= (1, 0, 0)  n_faults= 0\n",
      "Play between  1  and  4 \t(nD, nW1, nW2)= (0, 1, 0)  n_faults= 0\n",
      "Play between  2  and  2 \t(nD, nW1, nW2)= (1, 0, 0)  n_faults= 0\n",
      "Play between  2  and  3 \t(nD, nW1, nW2)= (1, 0, 0)  n_faults= 0\n",
      "Play between  2  and  4 \t(nD, nW1, nW2)= (0, 1, 0)  n_faults= 0\n",
      "Play between  3  and  3 \t(nD, nW1, nW2)= (1, 0, 0)  n_faults= 0\n",
      "Play between  3  and  4 \t(nD, nW1, nW2)= (1, 0, 0)  n_faults= 0\n",
      "Play between  4  and  4 \t(nD, nW1, nW2)= (0, 0, 1)  n_faults= 0\n"
     ]
    }
   ],
   "source": [
    "n_models = 5\n",
    "TResults = [[0 for e1 in range(n_models)] for e2 in range(n_models)]\n",
    "for e1 in range(n_models):\n",
    "    model1 = getCNNModel()\n",
    "    model1.load_weights(\"./epoch_\"+str(e1)+\"/model\").expect_partial()\n",
    "    for e2 in range(e1, n_models):\n",
    "        print(\"Play between \", e1, \" and \", e2,\"\\t\", end=\"\")\n",
    "        model2 = getCNNModel()\n",
    "        model1.load_weights(\"./epoch_\"+str(e2)+\"/model\").expect_partial()\n",
    "        tg, n_faults = T.gen_tournament(p1=model1, p2=model2, n=1, rnd=0.1, tqdm_disable=True)\n",
    "        TResults[e1][e2]=tg\n",
    "        winners = np.array([g[0] for g in tg])\n",
    "        nDraws = np.sum(winners == 0)\n",
    "        nW1 = np.sum(winners == 1)\n",
    "        nW2 = np.sum(winners == 2)\n",
    "        print(\"(nD, nW1, nW2)=\", (nDraws, nW1, nW2), \" n_faults=\", n_faults)\n",
    "        "
   ]
  },
  {
   "cell_type": "code",
   "execution_count": 307,
   "id": "228025b0-d727-4b1b-862e-977b505bab27",
   "metadata": {},
   "outputs": [],
   "source": [
    "def printMoves(moves, markers = dict({0:' ', 1:\"X\", 2:\"\\x1b[31m0\\x1b[0m\", 10:' ', 11:\"\\x1b[1;30mX\\x1b[0m\", 12:\"\\x1b[1;31m0\\x1b[0m\"})):\n",
    "    board = T.movesToBoard(moves)\n",
    "    for i in range(len(board)):\n",
    "        print(\"|\", end=\"\")\n",
    "        for j in range(len(board[i])):\n",
    "            if all([i,j] == moves[-1][1]):\n",
    "                print(markers[10+board[i][j]], end=\" \")\n",
    "            else:\n",
    "                print(markers[board[i][j]], end=\" \")                \n",
    "        print(\"|\")\n",
    "    print(\"Winner:\", T.getWinner(board))\n"
   ]
  },
  {
   "cell_type": "code",
   "execution_count": 313,
   "id": "1698c759-17f7-440a-9a5a-d1eaf8b5116e",
   "metadata": {},
   "outputs": [
    {
     "name": "stdout",
     "output_type": "stream",
     "text": [
      "Move 25\n",
      "|X X X X \u001b[31m0\u001b[0m |\n",
      "|\u001b[31m0\u001b[0m X \u001b[31m0\u001b[0m \u001b[1;30mX\u001b[0m \u001b[31m0\u001b[0m |\n",
      "|\u001b[31m0\u001b[0m X X X \u001b[31m0\u001b[0m |\n",
      "|X \u001b[31m0\u001b[0m \u001b[31m0\u001b[0m \u001b[31m0\u001b[0m \u001b[31m0\u001b[0m |\n",
      "|X X \u001b[31m0\u001b[0m \u001b[31m0\u001b[0m X |\n",
      "Winner: 0\n"
     ]
    },
    {
     "data": {
      "text/plain": [
       "None"
      ]
     },
     "metadata": {},
     "output_type": "display_data"
    },
    {
     "name": "stdin",
     "output_type": "stream",
     "text": [
      " \n"
     ]
    }
   ],
   "source": [
    "moves = TResults[3][4][0][1]\n",
    "for i in range(1, len(moves)+1):\n",
    "    clear_output()\n",
    "    print(\"Move\", i)\n",
    "    display(printMoves(moves[:i]))\n",
    "    input()"
   ]
  },
  {
   "cell_type": "code",
   "execution_count": 297,
   "id": "e94c36c3-04d3-4b09-8f68-78caef58fab9",
   "metadata": {},
   "outputs": [
    {
     "data": {
      "text/plain": [
       "[(1, array([0, 3])),\n",
       " (2, array([1, 2])),\n",
       " (1, array([0, 1])),\n",
       " (2, array([1, 0])),\n",
       " (1, array([2, 3])),\n",
       " (2, array([3, 3])),\n",
       " (1, array([1, 1])),\n",
       " (2, array([0, 2])),\n",
       " (1, array([1, 4])),\n",
       " (2, array([4, 3])),\n",
       " (1, array([3, 4])),\n",
       " (2, array([0, 0])),\n",
       " (1, array([4, 4])),\n",
       " (2, array([3, 2])),\n",
       " (1, array([2, 4])),\n",
       " (2, array([2, 2])),\n",
       " (1, array([3, 1])),\n",
       " (2, array([2, 0])),\n",
       " (1, array([2, 1])),\n",
       " (2, array([1, 3])),\n",
       " (1, array([4, 0])),\n",
       " (2, array([4, 2]))]"
      ]
     },
     "execution_count": 297,
     "metadata": {},
     "output_type": "execute_result"
    }
   ],
   "source": [
    "moves"
   ]
  },
  {
   "cell_type": "code",
   "execution_count": 254,
   "id": "b4ddd7eb-cb7a-4e10-939c-58680b1712ff",
   "metadata": {},
   "outputs": [
    {
     "name": "stdout",
     "output_type": "stream",
     "text": [
      "\u001b[1;31mHello world\u001b[0m\n"
     ]
    }
   ],
   "source": [
    "print('\\x1b[1;31m'+'Hello world'+'\\x1b[0m')"
   ]
  },
  {
   "cell_type": "code",
   "execution_count": 256,
   "id": "49077064-36c8-4ba0-b524-7bec0dea31c3",
   "metadata": {},
   "outputs": [
    {
     "name": "stdout",
     "output_type": "stream",
     "text": [
      "\u001b[1;31mHello world\u001b[0m\n"
     ]
    }
   ],
   "source": [
    "print('\\x1b[1;31m'+'Hello world'+'\\x1b[0m')"
   ]
  },
  {
   "cell_type": "code",
   "execution_count": 260,
   "id": "44bb96bf-07e9-4d91-a849-0d77826ddb44",
   "metadata": {},
   "outputs": [
    {
     "name": "stdout",
     "output_type": "stream",
     "text": [
      "\u001b[;31mHello world\u001b[0m\n"
     ]
    }
   ],
   "source": [
    "print('\\x1b[;31m'+'Hello world'+'\\x1b[0m')"
   ]
  },
  {
   "cell_type": "code",
   "execution_count": 265,
   "id": "a1404608-a99d-404c-8259-9d5163276f75",
   "metadata": {},
   "outputs": [
    {
     "name": "stdout",
     "output_type": "stream",
     "text": [
      "\u001b[1;30mHello world\u001b[0m\n"
     ]
    }
   ],
   "source": [
    "print('\\x1b[1;30m'+'Hello world'+'\\x1b[0m')"
   ]
  },
  {
   "cell_type": "code",
   "execution_count": 274,
   "id": "603a73db-52c6-4c5f-b4be-cedffa503599",
   "metadata": {},
   "outputs": [],
   "source": [
    "def printMoves(moves):\n",
    "    T.printBoard(T.movesToBoard(moves[:-1]))\n"
   ]
  },
  {
   "cell_type": "code",
   "execution_count": 298,
   "id": "b0d48b2b-e2bb-4f8e-a0dc-af2602c480e3",
   "metadata": {},
   "outputs": [
    {
     "name": "stdout",
     "output_type": "stream",
     "text": [
      "|\u001b[31m0\u001b[0m X \u001b[31m0\u001b[0m X   |\n",
      "|\u001b[31m0\u001b[0m X \u001b[31m0\u001b[0m \u001b[31m0\u001b[0m X |\n",
      "|\u001b[31m0\u001b[0m X \u001b[31m0\u001b[0m X X |\n",
      "|  X \u001b[31m0\u001b[0m \u001b[31m0\u001b[0m X |\n",
      "|X   \u001b[1;31m0\u001b[0m \u001b[31m0\u001b[0m X |\n",
      "Winner: 2\n"
     ]
    }
   ],
   "source": [
    "printMoves(moves)"
   ]
  },
  {
   "cell_type": "code",
   "execution_count": 288,
   "id": "02a9bc0d-d50f-4fd9-9c6b-d6b7df533b8a",
   "metadata": {},
   "outputs": [
    {
     "name": "stdout",
     "output_type": "stream",
     "text": [
      "|\u001b[31m0\u001b[0m X \u001b[31m0\u001b[0m X   |\n",
      "|\u001b[31m0\u001b[0m X \u001b[31m0\u001b[0m \u001b[31m0\u001b[0m X |\n",
      "|\u001b[31m0\u001b[0m X \u001b[31m0\u001b[0m X X |\n",
      "|  X \u001b[31m0\u001b[0m \u001b[31m0\u001b[0m X |\n",
      "|\u001b[1;30m0\u001b[0m     \u001b[31m0\u001b[0m X |\n",
      "Winner: -1\n"
     ]
    }
   ],
   "source": [
    "printMoves(moves[:-1])"
   ]
  },
  {
   "cell_type": "code",
   "execution_count": 273,
   "id": "9c08c552-3f92-4e6e-bd31-89740ad45acc",
   "metadata": {},
   "outputs": [
    {
     "data": {
      "text/plain": [
       "[1, 2]"
      ]
     },
     "execution_count": 273,
     "metadata": {},
     "output_type": "execute_result"
    }
   ],
   "source": [
    "[1,2,3][:-1]"
   ]
  },
  {
   "cell_type": "code",
   "execution_count": 299,
   "id": "dc01da19-a7d1-4dd6-9a7a-f3f0b0360c92",
   "metadata": {},
   "outputs": [
    {
     "data": {
      "text/plain": [
       "[(1, array([0, 3])),\n",
       " (2, array([1, 2])),\n",
       " (1, array([0, 1])),\n",
       " (2, array([1, 0])),\n",
       " (1, array([2, 3])),\n",
       " (2, array([3, 3])),\n",
       " (1, array([1, 1])),\n",
       " (2, array([0, 2])),\n",
       " (1, array([1, 4])),\n",
       " (2, array([4, 3])),\n",
       " (1, array([3, 4])),\n",
       " (2, array([0, 0])),\n",
       " (1, array([4, 4])),\n",
       " (2, array([3, 2])),\n",
       " (1, array([2, 4])),\n",
       " (2, array([2, 2])),\n",
       " (1, array([3, 1])),\n",
       " (2, array([2, 0])),\n",
       " (1, array([2, 1])),\n",
       " (2, array([1, 3])),\n",
       " (1, array([4, 0]))]"
      ]
     },
     "execution_count": 299,
     "metadata": {},
     "output_type": "execute_result"
    }
   ],
   "source": [
    "moves[:-1]"
   ]
  },
  {
   "cell_type": "code",
   "execution_count": null,
   "id": "91efaea9-c251-458c-866a-b05221ba3232",
   "metadata": {},
   "outputs": [],
   "source": []
  }
 ],
 "metadata": {
  "kernelspec": {
   "display_name": "Python 3 (ipykernel)",
   "language": "python",
   "name": "python3"
  },
  "language_info": {
   "codemirror_mode": {
    "name": "ipython",
    "version": 3
   },
   "file_extension": ".py",
   "mimetype": "text/x-python",
   "name": "python",
   "nbconvert_exporter": "python",
   "pygments_lexer": "ipython3",
   "version": "3.8.12"
  }
 },
 "nbformat": 4,
 "nbformat_minor": 5
}
