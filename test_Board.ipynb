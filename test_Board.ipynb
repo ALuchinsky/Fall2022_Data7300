{
 "cells": [
  {
   "cell_type": "code",
   "execution_count": 5,
   "id": "933d9ab5-e9be-49cd-b446-92c901995c83",
   "metadata": {},
   "outputs": [],
   "source": [
    "import numpy as np\n",
    "import numpy.random as random\n",
    "import matplotlib.pyplot as plt\n",
    "import tqdm"
   ]
  },
  {
   "cell_type": "code",
   "execution_count": 194,
   "id": "bff427f8-87dd-4990-bdf3-909aec9b0e54",
   "metadata": {},
   "outputs": [],
   "source": [
    "import multiprocessing"
   ]
  },
  {
   "cell_type": "code",
   "execution_count": 6,
   "id": "83eb6b09-8a0d-4c55-82d8-2585083ad701",
   "metadata": {},
   "outputs": [],
   "source": [
    "import importlib"
   ]
  },
  {
   "cell_type": "code",
   "execution_count": 7,
   "id": "6cf901c2-cf65-41bf-b8f3-2466fe0710b1",
   "metadata": {},
   "outputs": [],
   "source": [
    "import boards"
   ]
  },
  {
   "cell_type": "code",
   "execution_count": 32,
   "id": "4261fb20-a188-4786-b21d-96bfd0aca39c",
   "metadata": {},
   "outputs": [],
   "source": [
    "importlib.reload(boards);"
   ]
  },
  {
   "cell_type": "code",
   "execution_count": 33,
   "id": "58712051-210f-42c0-a30a-1142d644a943",
   "metadata": {},
   "outputs": [],
   "source": [
    "b = boards.LinearBoard(3)\n"
   ]
  },
  {
   "cell_type": "code",
   "execution_count": 34,
   "id": "ca68c7f3-a66f-4230-a80a-14f39267a398",
   "metadata": {},
   "outputs": [
    {
     "name": "stdout",
     "output_type": "stream",
     "text": [
      "    0 1 2 \n",
      "0  |X \u001b[31m0\u001b[0m X |\n",
      "1  |\u001b[31m0\u001b[0m \u001b[31m0\u001b[0m X |\n",
      "2  |\u001b[31m0\u001b[0m X X |\n"
     ]
    }
   ],
   "source": [
    "b = boards.LinearBoard(3)\n",
    "b.board[0]=1\n",
    "b.board[1]=2\n",
    "b.board[2]=1\n",
    "b.board[ b.ij_to_ind(1,0)] = 2\n",
    "b.board[ b.ij_to_ind(2,0)] = 2\n",
    "b.board[ b.ij_to_ind(1,1)] = 2\n",
    "b.board[ b.ij_to_ind(2,1)] = 1\n",
    "b.board[ b.ij_to_ind(1,2)] = 1\n",
    "b.board[ b.ij_to_ind(2,2)] = 1\n",
    "b.printBoard()"
   ]
  },
  {
   "cell_type": "code",
   "execution_count": 35,
   "id": "8894b9dc-7e68-48d2-b656-32ab05c1cd3d",
   "metadata": {},
   "outputs": [
    {
     "data": {
      "text/plain": [
       "(array([1, 2, 1, 1, 1, 2, 2, 1, 2]), 0)"
      ]
     },
     "execution_count": 35,
     "metadata": {},
     "output_type": "execute_result"
    }
   ],
   "source": [
    "B = boards.LinearBoard(3)\n",
    "boards.simulate(B.board, B.masks)"
   ]
  },
  {
   "cell_type": "code",
   "execution_count": 36,
   "id": "fea99ae9-ec49-44cc-8100-8fdd3bd63190",
   "metadata": {},
   "outputs": [
    {
     "name": "stdout",
     "output_type": "stream",
     "text": [
      "    0 1 2 3 \n",
      "0  |\u001b[31m0\u001b[0m X \u001b[31m0\u001b[0m X |\n",
      "1  |X X X \u001b[31m0\u001b[0m |\n",
      "2  |X \u001b[31m0\u001b[0m \u001b[31m0\u001b[0m \u001b[31m0\u001b[0m |\n",
      "3  |X \u001b[31m0\u001b[0m X \u001b[31m0\u001b[0m |\n",
      "winner =  0\n"
     ]
    }
   ],
   "source": [
    "b = boards.LinearBoard(n=4);\n",
    "w = boards.simulate(b.board, b.masks, max_moves=20)[1]\n",
    "b.printBoard()\n",
    "print(\"winner = \", w)"
   ]
  },
  {
   "cell_type": "code",
   "execution_count": 37,
   "id": "20beae51-3c64-4235-ab35-5a7db8e069a8",
   "metadata": {},
   "outputs": [
    {
     "name": "stdout",
     "output_type": "stream",
     "text": [
      "    0 1 2 3 4 5 6 7 8 9 \n",
      "0  |                    |\n",
      "1  |      \u001b[31m0\u001b[0m             |\n",
      "2  |  \u001b[31m0\u001b[0m             X   |\n",
      "3  |  \u001b[31m0\u001b[0m               \u001b[31m0\u001b[0m |\n",
      "4  |X       X X     \u001b[31m0\u001b[0m   |\n",
      "5  |  \u001b[31m0\u001b[0m X   \u001b[31m0\u001b[0m   \u001b[31m0\u001b[0m       |\n",
      "6  |      X             |\n",
      "7  |      X       \u001b[31m0\u001b[0m     |\n",
      "8  |              X     |\n",
      "9  |        X       \u001b[31m0\u001b[0m X |\n",
      "winner =  -1\n"
     ]
    }
   ],
   "source": [
    "b = boards.LinearBoard(n=10);\n",
    "w = boards.simulate(b.board, b.masks, max_moves=20)[1]\n",
    "b.printBoard()\n",
    "print(\"winner = \", w)"
   ]
  },
  {
   "cell_type": "code",
   "execution_count": 38,
   "id": "aeb2cbde-705b-41ae-a24c-a433a1469aaf",
   "metadata": {},
   "outputs": [
    {
     "name": "stderr",
     "output_type": "stream",
     "text": [
      "100%|████████████████████████████████████████████████████████████████████████████████████████████████████████████████████████████████████████████████████████████████████| 10000/10000 [00:11<00:00, 877.92it/s]\n"
     ]
    },
    {
     "data": {
      "image/png": "[encoded data removed]",
      "text/plain": [
       "<Figure size 640x480 with 1 Axes>"
      ]
     },
     "metadata": {},
     "output_type": "display_data"
    }
   ],
   "source": [
    "n = 4\n",
    "B = boards.LinearBoard(n)\n",
    "stats = [boards.simulate(boards.LinearBoard(n).board, B.masks, max_moves=1000)[1] for _ in tqdm.tqdm(range(10000))]\n",
    "plt.hist(stats, bins=3);"
   ]
  },
  {
   "cell_type": "code",
   "execution_count": 39,
   "id": "f215c5bb-bf69-4168-8de5-31a1f1246522",
   "metadata": {},
   "outputs": [],
   "source": [
    "B = boards.LinearBoard(5);\n",
    "masks = B.masks\n",
    "board, _ = boards.simulate(B.board, B.masks, max_moves=3)"
   ]
  },
  {
   "cell_type": "code",
   "execution_count": 40,
   "id": "7dd450c7-312a-448d-9381-9f80f381381a",
   "metadata": {},
   "outputs": [],
   "source": [
    "moves = boards.getMoves(board)\n",
    "moves_stats = np.zeros(len(moves))"
   ]
  },
  {
   "cell_type": "code",
   "execution_count": 42,
   "id": "a9a39bfb-6b77-43a4-8b15-bf6a16462011",
   "metadata": {},
   "outputs": [
    {
     "name": "stderr",
     "output_type": "stream",
     "text": [
      "100%|███████████████████████████████████████████████████████████████████████████████████████████████████████████████████████████████████████████████████████████████████████████| 22/22 [00:34<00:00,  1.57s/it]\n"
     ]
    }
   ],
   "source": [
    "for iMove in tqdm.tqdm(range(len(moves))):\n",
    "    bb = board.copy()\n",
    "    bb[ moves[iMove]] = 1\n",
    "    boards_collection = np.tile(bb, (1000,1))\n",
    "    mc = np.apply_along_axis(lambda b: boards.simulate(b, masks, max_moves=100)[1], 1, boards_collection)\n",
    "    moves_stats[iMove] = np.mean(mc==1)"
   ]
  },
  {
   "cell_type": "code",
   "execution_count": 162,
   "id": "d38077f8-718b-4f30-8b0d-fb0b0fafb584",
   "metadata": {},
   "outputs": [],
   "source": [
    "def get_player_to_move(board):\n",
    "    return 1 if np.sum(board==1) == np.sum(board==2) else 2"
   ]
  },
  {
   "cell_type": "code",
   "execution_count": 186,
   "id": "5a4f5a95-527c-4e50-b235-5e3a2c527589",
   "metadata": {},
   "outputs": [],
   "source": [
    "def find_best_MC_move(board, masks, mc_trials = 1000, max_moves = 100):\n",
    "    player_to_move = get_player_to_move(board)\n",
    "    next_player = 3 - player_to_move\n",
    "    print(\"Finding best move for player \", player_to_move, \"next one will be \", next_player)\n",
    "    moves = boards.getMoves(board)\n",
    "    print(\"There are \", len(moves), \" possible moves\")\n",
    "    moves_stats = np.zeros(len(moves))\n",
    "    for iMove in tqdm.tqdm(range(len(moves))):\n",
    "        bb = board.copy()\n",
    "        bb[ moves[iMove]] = player_to_move # making test move\n",
    "        # MC the play with the opponent starting\n",
    "        boards_collection = np.tile(bb, (mc_trials,1))\n",
    "        mc = np.apply_along_axis(lambda b: boards.simulate(b, masks, player_to_move=next_player, max_moves=max_moves)[1], 1, boards_collection)\n",
    "        moves_stats[iMove] = np.mean(mc==player_to_move)\n",
    "    i_best_move = np.argmax(moves_stats)\n",
    "    return moves[i_best_move], player_to_move, sorted([list(m) for m in zip(moves, moves_stat)], key= lambda r: -r[1])"
   ]
  },
  {
   "cell_type": "code",
   "execution_count": null,
   "id": "03ef0761-30bf-4df1-91d6-808a9c624cb7",
   "metadata": {},
   "outputs": [],
   "source": [
    "?fin"
   ]
  },
  {
   "cell_type": "code",
   "execution_count": 190,
   "id": "8adc2520-f3e5-42cd-9369-b5f27e88165a",
   "metadata": {},
   "outputs": [
    {
     "name": "stdout",
     "output_type": "stream",
     "text": [
      "    0 1 2 3 4 \n",
      "0  |          |\n",
      "1  |          |\n",
      "2  |          |\n",
      "3  |          |\n",
      "4  |          |\n"
     ]
    }
   ],
   "source": [
    "n = 5\n",
    "board = np.zeros(n*n)\n",
    "masks = boards.initMasks(n)\n",
    "# boards.simulate(board, masks, max_moves=1)\n",
    "boards.printBoard(board, n)"
   ]
  },
  {
   "cell_type": "code",
   "execution_count": 191,
   "id": "62b8263b-b5f1-4142-9bdb-57d54b87a73b",
   "metadata": {},
   "outputs": [
    {
     "name": "stdout",
     "output_type": "stream",
     "text": [
      "Finding best move for player  1 next one will be  2\n",
      "There are  25  possible moves\n"
     ]
    },
    {
     "name": "stderr",
     "output_type": "stream",
     "text": [
      "100%|███████████████████████████████████████████████████████████████████████████████████████████████████████████████████████████████████████████████████████████████████████████| 25/25 [00:52<00:00,  2.09s/it]"
     ]
    },
    {
     "name": "stdout",
     "output_type": "stream",
     "text": [
      "Best move for player  1  is  6\n",
      "    0 1 2 3 4 \n",
      "0  |          |\n",
      "1  |  X       |\n",
      "2  |          |\n",
      "3  |          |\n",
      "4  |          |\n"
     ]
    },
    {
     "name": "stderr",
     "output_type": "stream",
     "text": [
      "\n"
     ]
    }
   ],
   "source": [
    "best_move, p, moves = find_best_MC_move(board, masks)\n",
    "print(\"Best move for player \", p, \" is \", best_move)\n",
    "board[best_move] = p\n",
    "boards.printBoard(board, n)"
   ]
  },
  {
   "cell_type": "code",
   "execution_count": 193,
   "id": "d8cc208f-9b10-47be-b710-b9285eb9dc29",
   "metadata": {},
   "outputs": [
    {
     "name": "stdout",
     "output_type": "stream",
     "text": [
      "Finding best move for player  2 next one will be  1\n",
      "There are  24  possible moves\n"
     ]
    },
    {
     "name": "stderr",
     "output_type": "stream",
     "text": [
      "100%|███████████████████████████████████████████████████████████████████████████████████████████████████████████████████████████████████████████████████████████████████████████| 24/24 [00:51<00:00,  2.16s/it]"
     ]
    },
    {
     "name": "stdout",
     "output_type": "stream",
     "text": [
      "Best move for player  2  is  20\n",
      "    0 1 2 3 4 \n",
      "0  |          |\n",
      "1  |  X       |\n",
      "2  |          |\n",
      "3  |          |\n",
      "4  |\u001b[31m0\u001b[0m         |\n"
     ]
    },
    {
     "name": "stderr",
     "output_type": "stream",
     "text": [
      "\n"
     ]
    }
   ],
   "source": [
    "best_move, p, moves = find_best_MC_move(board, masks)\n",
    "print(\"Best move for player \", p, \" is \", best_move)\n",
    "board[best_move] = p\n",
    "boards.printBoard(board, n)"
   ]
  },
  {
   "cell_type": "code",
   "execution_count": 192,
   "id": "29440a00-3c0e-4b8f-997f-e14f122bedb0",
   "metadata": {},
   "outputs": [
    {
     "data": {
      "text/plain": [
       "[[4, 0.681],\n",
       " [0, 0.605],\n",
       " [2, 0.602],\n",
       " [8, 0.598],\n",
       " [6, 0.587],\n",
       " [1, 0.559],\n",
       " [5, 0.555],\n",
       " [7, 0.534],\n",
       " [3, 0.513]]"
      ]
     },
     "execution_count": 192,
     "metadata": {},
     "output_type": "execute_result"
    }
   ],
   "source": [
    "moves"
   ]
  },
  {
   "cell_type": "code",
   "execution_count": 185,
   "id": "298a97de-be60-468b-b37a-d374d6d7dd24",
   "metadata": {},
   "outputs": [
    {
     "data": {
      "text/plain": [
       "[[4, 0.681],\n",
       " [0, 0.605],\n",
       " [2, 0.602],\n",
       " [8, 0.598],\n",
       " [6, 0.587],\n",
       " [1, 0.559],\n",
       " [5, 0.555],\n",
       " [7, 0.534],\n",
       " [3, 0.513]]"
      ]
     },
     "execution_count": 185,
     "metadata": {},
     "output_type": "execute_result"
    }
   ],
   "source": [
    "sorted([list(m) for m in zip(moves, moves_stat)], key= lambda r: -r[1])"
   ]
  },
  {
   "cell_type": "code",
   "execution_count": null,
   "id": "c57687bb-0bbf-44cd-a0f9-4d08a7acff75",
   "metadata": {},
   "outputs": [],
   "source": []
  },
  {
   "cell_type": "code",
   "execution_count": 131,
   "id": "c7fb974c-f959-40ab-acff-b355290aef3e",
   "metadata": {},
   "outputs": [
    {
     "name": "stdout",
     "output_type": "stream",
     "text": [
      "Finding best move for player  2 next one will be  1\n",
      "There are  15  possible moves\n"
     ]
    },
    {
     "name": "stderr",
     "output_type": "stream",
     "text": [
      "100%|███████████████████████████████████████████████████████████████████████████████████████████████████████████████████████████████████████████████████████████████████████████| 15/15 [00:14<00:00,  1.00it/s]"
     ]
    },
    {
     "name": "stdout",
     "output_type": "stream",
     "text": [
      "Best move for player  2  is  5\n",
      "    0 1 2 3 \n",
      "0  |      X |\n",
      "1  |  \u001b[31m0\u001b[0m     |\n",
      "2  |        |\n",
      "3  |        |\n"
     ]
    },
    {
     "name": "stderr",
     "output_type": "stream",
     "text": [
      "\n"
     ]
    }
   ],
   "source": [
    "best_move, p = find_best_move(board, masks)\n",
    "print(\"Best move for player \", p, \" is \", best_move)\n",
    "board[best_move] = p\n",
    "boards.printBoard(board, n)"
   ]
  },
  {
   "cell_type": "code",
   "execution_count": 132,
   "id": "a524aa8e-9fe7-4e4f-92c7-c20aca7b08cc",
   "metadata": {},
   "outputs": [
    {
     "name": "stdout",
     "output_type": "stream",
     "text": [
      "Finding best move for player  1 next one will be  2\n",
      "There are  14  possible moves\n"
     ]
    },
    {
     "name": "stderr",
     "output_type": "stream",
     "text": [
      "100%|███████████████████████████████████████████████████████████████████████████████████████████████████████████████████████████████████████████████████████████████████████████| 14/14 [00:12<00:00,  1.12it/s]"
     ]
    },
    {
     "name": "stdout",
     "output_type": "stream",
     "text": [
      "Best move for player  1  is  6\n",
      "    0 1 2 3 \n",
      "0  |      X |\n",
      "1  |  \u001b[31m0\u001b[0m X   |\n",
      "2  |        |\n",
      "3  |        |\n"
     ]
    },
    {
     "name": "stderr",
     "output_type": "stream",
     "text": [
      "\n"
     ]
    }
   ],
   "source": [
    "best_move, p = find_best_move(board, masks)\n",
    "print(\"Best move for player \", p, \" is \", best_move)\n",
    "board[best_move] = p\n",
    "boards.printBoard(board, n)"
   ]
  },
  {
   "cell_type": "code",
   "execution_count": 125,
   "id": "0fca1502-b54f-4074-ab06-8cdc251bba8f",
   "metadata": {},
   "outputs": [
    {
     "name": "stdout",
     "output_type": "stream",
     "text": [
      "Finding best move for player  2 next one will be  1\n",
      "There are  6  possible moves\n"
     ]
    },
    {
     "name": "stderr",
     "output_type": "stream",
     "text": [
      "100%|█████████████████████████████████████████████████████████████████████████████████████████████████████████████████████████████████████████████████████████████████████████████| 6/6 [00:01<00:00,  4.64it/s]"
     ]
    },
    {
     "name": "stdout",
     "output_type": "stream",
     "text": [
      "Best move for player  2  is  8\n",
      "    0 1 2 \n",
      "0  |X     |\n",
      "1  |  X   |\n",
      "2  |\u001b[31m0\u001b[0m   \u001b[31m0\u001b[0m |\n"
     ]
    },
    {
     "name": "stderr",
     "output_type": "stream",
     "text": [
      "\n"
     ]
    }
   ],
   "source": [
    "best_move, p = find_best_move(board, masks)\n",
    "print(\"Best move for player \", p, \" is \", best_move)\n",
    "board[best_move] = p\n",
    "boards.printBoard(board, n)"
   ]
  },
  {
   "cell_type": "code",
   "execution_count": 126,
   "id": "340d4f0f-30d9-41d0-b10e-c3669f58856d",
   "metadata": {},
   "outputs": [
    {
     "name": "stdout",
     "output_type": "stream",
     "text": [
      "Finding best move for player  1 next one will be  2\n",
      "There are  5  possible moves\n"
     ]
    },
    {
     "name": "stderr",
     "output_type": "stream",
     "text": [
      "100%|█████████████████████████████████████████████████████████████████████████████████████████████████████████████████████████████████████████████████████████████████████████████| 5/5 [00:00<00:00,  5.72it/s]"
     ]
    },
    {
     "name": "stdout",
     "output_type": "stream",
     "text": [
      "Best move for player  1  is  7\n",
      "    0 1 2 \n",
      "0  |X     |\n",
      "1  |  X   |\n",
      "2  |\u001b[31m0\u001b[0m X \u001b[31m0\u001b[0m |\n"
     ]
    },
    {
     "name": "stderr",
     "output_type": "stream",
     "text": [
      "\n"
     ]
    }
   ],
   "source": [
    "best_move, p = find_best_move(board, masks)\n",
    "print(\"Best move for player \", p, \" is \", best_move)\n",
    "board[best_move] = p\n",
    "boards.printBoard(board, n)"
   ]
  },
  {
   "cell_type": "code",
   "execution_count": 127,
   "id": "da12b4fe-94d8-4d9d-b011-67b2b9efcad6",
   "metadata": {},
   "outputs": [
    {
     "name": "stdout",
     "output_type": "stream",
     "text": [
      "Finding best move for player  2 next one will be  1\n",
      "There are  4  possible moves\n"
     ]
    },
    {
     "name": "stderr",
     "output_type": "stream",
     "text": [
      "100%|█████████████████████████████████████████████████████████████████████████████████████████████████████████████████████████████████████████████████████████████████████████████| 4/4 [00:00<00:00,  5.64it/s]"
     ]
    },
    {
     "name": "stdout",
     "output_type": "stream",
     "text": [
      "Best move for player  2  is  5\n",
      "    0 1 2 \n",
      "0  |X     |\n",
      "1  |  X \u001b[31m0\u001b[0m |\n",
      "2  |\u001b[31m0\u001b[0m X \u001b[31m0\u001b[0m |\n"
     ]
    },
    {
     "name": "stderr",
     "output_type": "stream",
     "text": [
      "\n"
     ]
    }
   ],
   "source": [
    "best_move, p = find_best_move(board, masks)\n",
    "print(\"Best move for player \", p, \" is \", best_move)\n",
    "board[best_move] = p\n",
    "boards.printBoard(board, n)"
   ]
  },
  {
   "cell_type": "code",
   "execution_count": 128,
   "id": "df3945ac-749b-4771-9dbf-d85f2a51ca48",
   "metadata": {},
   "outputs": [
    {
     "name": "stdout",
     "output_type": "stream",
     "text": [
      "Finding best move for player  1 next one will be  2\n",
      "There are  3  possible moves\n"
     ]
    },
    {
     "name": "stderr",
     "output_type": "stream",
     "text": [
      "100%|█████████████████████████████████████████████████████████████████████████████████████████████████████████████████████████████████████████████████████████████████████████████| 3/3 [00:00<00:00,  8.47it/s]"
     ]
    },
    {
     "name": "stdout",
     "output_type": "stream",
     "text": [
      "Best move for player  1  is  1\n",
      "    0 1 2 \n",
      "0  |X X   |\n",
      "1  |  X \u001b[31m0\u001b[0m |\n",
      "2  |\u001b[31m0\u001b[0m X \u001b[31m0\u001b[0m |\n"
     ]
    },
    {
     "name": "stderr",
     "output_type": "stream",
     "text": [
      "\n"
     ]
    }
   ],
   "source": [
    "best_move, p = find_best_move(board, masks)\n",
    "print(\"Best move for player \", p, \" is \", best_move)\n",
    "board[best_move] = p\n",
    "boards.printBoard(board, n)"
   ]
  },
  {
   "cell_type": "code",
   "execution_count": 112,
   "id": "09630b18-9ab1-4767-bcc7-041fec44aee8",
   "metadata": {},
   "outputs": [
    {
     "name": "stdout",
     "output_type": "stream",
     "text": [
      "Finding best move for player  1 next one will be  2\n",
      "There are  1  possible moves\n"
     ]
    },
    {
     "name": "stderr",
     "output_type": "stream",
     "text": [
      "100%|█████████████████████████████████████████████████████████████████████████████████████████████████████████████████████████████████████████████████████████████████████████████| 1/1 [00:00<00:00, 16.67it/s]"
     ]
    },
    {
     "name": "stdout",
     "output_type": "stream",
     "text": [
      "Best move for player  1  is  5\n",
      "    0 1 2 \n",
      "0  |X \u001b[31m0\u001b[0m X |\n",
      "1  |\u001b[31m0\u001b[0m \u001b[31m0\u001b[0m X |\n",
      "2  |\u001b[31m0\u001b[0m X X |\n"
     ]
    },
    {
     "name": "stderr",
     "output_type": "stream",
     "text": [
      "\n"
     ]
    }
   ],
   "source": [
    "best_move, p = find_best_move(board, masks)\n",
    "print(\"Best move for player \", p, \" is \", best_move)\n",
    "board[best_move] = p\n",
    "boards.printBoard(board, n)"
   ]
  },
  {
   "cell_type": "markdown",
   "id": "55946116-82f5-40b5-9da3-de261579747d",
   "metadata": {},
   "source": [
    "## -------"
   ]
  },
  {
   "cell_type": "code",
   "execution_count": 103,
   "id": "35435e98-a6ac-4515-9e1d-d95384289510",
   "metadata": {},
   "outputs": [],
   "source": [
    "board[best_move] = 1;\n",
    "moves = boards.getMoves(board)\n",
    "moves_stats = np.zeros(len(moves))"
   ]
  },
  {
   "cell_type": "code",
   "execution_count": 137,
   "id": "5fa0b983-7a70-4650-8fae-f8d326abf788",
   "metadata": {},
   "outputs": [
    {
     "name": "stderr",
     "output_type": "stream",
     "text": [
      "100%|███████████████████████████████████████████| 22/22 [00:34<00:00,  1.59s/it]\n"
     ]
    }
   ],
   "source": [
    "for iMove in tqdm.tqdm(range(len(moves))):\n",
    "    bb = board.copy()\n",
    "    bb[ moves[iMove]] = 1\n",
    "    boards_collection = np.tile(bb, (1000,1))\n",
    "    mc = np.apply_along_axis(lambda b: boards.simulate(b, masks, player_to_move=2, max_moves=100)[1], 1, boards_collection)\n",
    "    moves_stats[iMove] = np.mean(mc==2)"
   ]
  },
  {
   "cell_type": "code",
   "execution_count": 138,
   "id": "d821edc4-1549-4d4b-a9e7-59175d811572",
   "metadata": {},
   "outputs": [
    {
     "data": {
      "text/plain": [
       "15"
      ]
     },
     "execution_count": 138,
     "metadata": {},
     "output_type": "execute_result"
    }
   ],
   "source": [
    "best_move = np.argmax(moves_stats)\n",
    "best_move"
   ]
  },
  {
   "cell_type": "code",
   "execution_count": 139,
   "id": "a5ad1612-65fb-4243-b8e9-966227c03606",
   "metadata": {},
   "outputs": [],
   "source": [
    "board[best_move] = 2;\n",
    "moves = boards.getMoves(board)\n",
    "moves_stats = np.zeros(len(moves))"
   ]
  },
  {
   "cell_type": "code",
   "execution_count": 137,
   "id": "7fded8d4-e00c-4cf4-9568-43efcd866744",
   "metadata": {},
   "outputs": [
    {
     "name": "stderr",
     "output_type": "stream",
     "text": [
      "100%|███████████████████████████████████████████| 22/22 [00:34<00:00,  1.59s/it]\n"
     ]
    }
   ],
   "source": [
    "for iMove in tqdm.tqdm(range(len(moves))):\n",
    "    bb = board.copy()\n",
    "    bb[ moves[iMove]] = 1\n",
    "    boards_collection = np.tile(bb, (1000,1))\n",
    "    mc = np.apply_along_axis(lambda b: boards.simulate(b, masks, player_to_move=2, max_moves=100)[1], 1, boards_collection)\n",
    "    moves_stats[iMove] = np.mean(mc==2)"
   ]
  },
  {
   "cell_type": "code",
   "execution_count": null,
   "id": "218e2913-1e22-4faa-84d2-ca60bfb4daea",
   "metadata": {},
   "outputs": [],
   "source": []
  }
 ],
 "metadata": {
  "kernelspec": {
   "display_name": "Python 3 (ipykernel)",
   "language": "python",
   "name": "python3"
  },
  "language_info": {
   "codemirror_mode": {
    "name": "ipython",
    "version": 3
   },
   "file_extension": ".py",
   "mimetype": "text/x-python",
   "name": "python",
   "nbconvert_exporter": "python",
   "pygments_lexer": "ipython3",
   "version": "3.8.12"
  }
 },
 "nbformat": 4,
 "nbformat_minor": 5
}
