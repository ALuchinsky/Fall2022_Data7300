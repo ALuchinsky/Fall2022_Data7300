{
 "cells": [
  {
   "cell_type": "code",
   "execution_count": 1,
   "id": "933d9ab5-e9be-49cd-b446-92c901995c83",
   "metadata": {},
   "outputs": [],
   "source": [
    "import numpy as np\n",
    "import numpy.random as random\n",
    "import matplotlib.pyplot as plt\n",
    "import tqdm"
   ]
  },
  {
   "cell_type": "code",
   "execution_count": 2,
   "id": "83eb6b09-8a0d-4c55-82d8-2585083ad701",
   "metadata": {},
   "outputs": [],
   "source": [
    "import importlib"
   ]
  },
  {
   "cell_type": "code",
   "execution_count": 3,
   "id": "6cf901c2-cf65-41bf-b8f3-2466fe0710b1",
   "metadata": {},
   "outputs": [],
   "source": [
    "import boards"
   ]
  },
  {
   "cell_type": "code",
   "execution_count": 4,
   "id": "4261fb20-a188-4786-b21d-96bfd0aca39c",
   "metadata": {},
   "outputs": [],
   "source": [
    "importlib.reload(boards);"
   ]
  },
  {
   "cell_type": "code",
   "execution_count": 6,
   "id": "ca68c7f3-a66f-4230-a80a-14f39267a398",
   "metadata": {},
   "outputs": [
    {
     "name": "stdout",
     "output_type": "stream",
     "text": [
      "    0 1 2 \n",
      "0  |X \u001b[31m0\u001b[0m X |\n",
      "1  |\u001b[31m0\u001b[0m \u001b[31m0\u001b[0m X |\n",
      "2  |\u001b[31m0\u001b[0m X X |\n"
     ]
    }
   ],
   "source": [
    "b = boards.LinearBoard(3)\n",
    "b.board[0]=1\n",
    "b.board[1]=2\n",
    "b.board[2]=1\n",
    "b.board[ b.ij_to_ind(1,0)] = 2\n",
    "b.board[ b.ij_to_ind(2,0)] = 2\n",
    "b.board[ b.ij_to_ind(1,1)] = 2\n",
    "b.board[ b.ij_to_ind(2,1)] = 1\n",
    "b.board[ b.ij_to_ind(1,2)] = 1\n",
    "b.board[ b.ij_to_ind(2,2)] = 1\n",
    "b.printBoard()"
   ]
  },
  {
   "cell_type": "code",
   "execution_count": 31,
   "id": "fea99ae9-ec49-44cc-8100-8fdd3bd63190",
   "metadata": {},
   "outputs": [
    {
     "name": "stdout",
     "output_type": "stream",
     "text": [
      "    0 1 2 3 \n",
      "0  |\u001b[31m0\u001b[0m X \u001b[31m0\u001b[0m X |\n",
      "1  |X \u001b[31m0\u001b[0m X \u001b[31m0\u001b[0m |\n",
      "2  |X \u001b[31m0\u001b[0m \u001b[31m0\u001b[0m \u001b[31m0\u001b[0m |\n",
      "3  |X X \u001b[31m0\u001b[0m X |\n",
      "winner =  0\n"
     ]
    }
   ],
   "source": [
    "b = boards.LinearBoard(n=4);w = boards.simulate(b, max_moves=20)[1]\n",
    "b.printBoard()\n",
    "print(\"winner = \", w)"
   ]
  },
  {
   "cell_type": "code",
   "execution_count": 41,
   "id": "78d7cd3a-ee61-4040-badb-1d13e363fb7a",
   "metadata": {},
   "outputs": [
    {
     "name": "stdout",
     "output_type": "stream",
     "text": [
      "    0 1 2 3 4 5 6 7 8 9 \n",
      "0  |\u001b[31m0\u001b[0m X X X X X \u001b[31m0\u001b[0m \u001b[31m0\u001b[0m \u001b[31m0\u001b[0m \u001b[31m0\u001b[0m |\n",
      "1  |X X X X X X X \u001b[31m0\u001b[0m X X |\n",
      "2  |\u001b[31m0\u001b[0m \u001b[31m0\u001b[0m \u001b[31m0\u001b[0m X \u001b[31m0\u001b[0m X \u001b[31m0\u001b[0m X X X |\n",
      "3  |X \u001b[31m0\u001b[0m X \u001b[31m0\u001b[0m X \u001b[31m0\u001b[0m \u001b[31m0\u001b[0m \u001b[31m0\u001b[0m \u001b[31m0\u001b[0m \u001b[31m0\u001b[0m |\n",
      "4  |X \u001b[31m0\u001b[0m \u001b[31m0\u001b[0m \u001b[31m0\u001b[0m \u001b[31m0\u001b[0m X X \u001b[31m0\u001b[0m X X |\n",
      "5  |X X X X X \u001b[31m0\u001b[0m \u001b[31m0\u001b[0m \u001b[31m0\u001b[0m \u001b[31m0\u001b[0m \u001b[31m0\u001b[0m |\n",
      "6  |\u001b[31m0\u001b[0m \u001b[31m0\u001b[0m X \u001b[31m0\u001b[0m \u001b[31m0\u001b[0m X \u001b[31m0\u001b[0m X \u001b[31m0\u001b[0m X |\n",
      "7  |\u001b[31m0\u001b[0m \u001b[31m0\u001b[0m X \u001b[31m0\u001b[0m \u001b[31m0\u001b[0m \u001b[31m0\u001b[0m \u001b[31m0\u001b[0m X \u001b[31m0\u001b[0m \u001b[31m0\u001b[0m |\n",
      "8  |X X \u001b[31m0\u001b[0m X \u001b[31m0\u001b[0m X \u001b[31m0\u001b[0m \u001b[31m0\u001b[0m X X |\n",
      "9  |X X \u001b[31m0\u001b[0m X X \u001b[31m0\u001b[0m \u001b[31m0\u001b[0m X \u001b[31m0\u001b[0m X |\n",
      "winner =  0\n"
     ]
    }
   ],
   "source": [
    "b = boards.LinearBoard(n=10);\n",
    "w = boards.simulate(b, max_moves=200)[1]\n",
    "b.printBoard()\n",
    "print(\"winner = \", w)"
   ]
  },
  {
   "cell_type": "code",
   "execution_count": 116,
   "id": "aeb2cbde-705b-41ae-a24c-a433a1469aaf",
   "metadata": {},
   "outputs": [
    {
     "name": "stderr",
     "output_type": "stream",
     "text": [
      "100%|█████████████████████████████████████| 10000/10000 [02:34<00:00, 64.81it/s]\n"
     ]
    },
    {
     "data": {
      "image/png": "[encoded data removed]",
      "text/plain": [
       "<Figure size 640x480 with 1 Axes>"
      ]
     },
     "metadata": {},
     "output_type": "display_data"
    }
   ],
   "source": [
    "stats = [boards.simulate(boards.LinearBoard(n=10), max_moves=1000)[1] for _ in tqdm.tqdm(range(10000))]\n",
    "plt.hist(stats, bins=3);"
   ]
  }
 ],
 "metadata": {
  "kernelspec": {
   "display_name": "Python 3 (ipykernel)",
   "language": "python",
   "name": "python3"
  },
  "language_info": {
   "codemirror_mode": {
    "name": "ipython",
    "version": 3
   },
   "file_extension": ".py",
   "mimetype": "text/x-python",
   "name": "python",
   "nbconvert_exporter": "python",
   "pygments_lexer": "ipython3",
   "version": "3.8.12"
  }
 },
 "nbformat": 4,
 "nbformat_minor": 5
}
