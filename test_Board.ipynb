{
 "cells": [
  {
   "cell_type": "code",
   "execution_count": 1,
   "id": "933d9ab5-e9be-49cd-b446-92c901995c83",
   "metadata": {},
   "outputs": [],
   "source": [
    "import numpy as np\n",
    "import numpy.random as random"
   ]
  },
  {
   "cell_type": "code",
   "execution_count": 2,
   "id": "31bcac52-afe1-42b1-9000-a2f707643f9b",
   "metadata": {},
   "outputs": [],
   "source": [
    "from board import Board"
   ]
  },
  {
   "cell_type": "code",
   "execution_count": 3,
   "id": "7c6a6d72-6993-46eb-9346-ac1519260f50",
   "metadata": {},
   "outputs": [
    {
     "name": "stdout",
     "output_type": "stream",
     "text": [
      "    0 1 2 \n",
      "0  |X X X |\n",
      "1  |      |\n",
      "2  |      |\n",
      "Winner: 1\n"
     ]
    }
   ],
   "source": [
    "B = Board(n=3)\n",
    "B.movesToBoard([ (1,[0,0]), (1,[0,1]), (1,[0,2])])\n",
    "B.printBoard()"
   ]
  },
  {
   "cell_type": "code",
   "execution_count": null,
   "id": "baa517d0-a113-463d-a5cc-31b52fd2e373",
   "metadata": {},
   "outputs": [],
   "source": []
  }
 ],
 "metadata": {
  "kernelspec": {
   "display_name": "Python 3 (ipykernel)",
   "language": "python",
   "name": "python3"
  },
  "language_info": {
   "codemirror_mode": {
    "name": "ipython",
    "version": 3
   },
   "file_extension": ".py",
   "mimetype": "text/x-python",
   "name": "python",
   "nbconvert_exporter": "python",
   "pygments_lexer": "ipython3",
   "version": "3.8.12"
  }
 },
 "nbformat": 4,
 "nbformat_minor": 5
}
