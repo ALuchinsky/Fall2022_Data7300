{
 "cells": [
  {
   "cell_type": "code",
   "execution_count": 5,
   "id": "933d9ab5-e9be-49cd-b446-92c901995c83",
   "metadata": {},
   "outputs": [],
   "source": [
    "import numpy as np\n",
    "import numpy.random as random\n",
    "import matplotlib.pyplot as plt\n",
    "import tqdm"
   ]
  },
  {
   "cell_type": "code",
   "execution_count": 6,
   "id": "83eb6b09-8a0d-4c55-82d8-2585083ad701",
   "metadata": {},
   "outputs": [],
   "source": [
    "import importlib"
   ]
  },
  {
   "cell_type": "code",
   "execution_count": 7,
   "id": "6cf901c2-cf65-41bf-b8f3-2466fe0710b1",
   "metadata": {},
   "outputs": [],
   "source": [
    "import boards"
   ]
  },
  {
   "cell_type": "code",
   "execution_count": 19,
   "id": "4261fb20-a188-4786-b21d-96bfd0aca39c",
   "metadata": {},
   "outputs": [],
   "source": [
    "importlib.reload(boards);"
   ]
  },
  {
   "cell_type": "code",
   "execution_count": 20,
   "id": "58712051-210f-42c0-a30a-1142d644a943",
   "metadata": {},
   "outputs": [],
   "source": [
    "b = boards.LinearBoard(3)\n"
   ]
  },
  {
   "cell_type": "code",
   "execution_count": 21,
   "id": "ca68c7f3-a66f-4230-a80a-14f39267a398",
   "metadata": {},
   "outputs": [
    {
     "name": "stdout",
     "output_type": "stream",
     "text": [
      "    0 1 2 \n",
      "0  |X \u001b[31m0\u001b[0m X |\n",
      "1  |\u001b[31m0\u001b[0m \u001b[31m0\u001b[0m X |\n",
      "2  |\u001b[31m0\u001b[0m X X |\n"
     ]
    }
   ],
   "source": [
    "b = boards.LinearBoard(3)\n",
    "b.board[0]=1\n",
    "b.board[1]=2\n",
    "b.board[2]=1\n",
    "b.board[ b.ij_to_ind(1,0)] = 2\n",
    "b.board[ b.ij_to_ind(2,0)] = 2\n",
    "b.board[ b.ij_to_ind(1,1)] = 2\n",
    "b.board[ b.ij_to_ind(2,1)] = 1\n",
    "b.board[ b.ij_to_ind(1,2)] = 1\n",
    "b.board[ b.ij_to_ind(2,2)] = 1\n",
    "b.printBoard()"
   ]
  },
  {
   "cell_type": "code",
   "execution_count": 22,
   "id": "8894b9dc-7e68-48d2-b656-32ab05c1cd3d",
   "metadata": {},
   "outputs": [
    {
     "data": {
      "text/plain": [
       "(array([1, 1, 1, 1, 2, 2, 1, 2, 2]), 1)"
      ]
     },
     "execution_count": 22,
     "metadata": {},
     "output_type": "execute_result"
    }
   ],
   "source": [
    "B = boards.LinearBoard(3)\n",
    "boards.simulate(B.board, B.masks)"
   ]
  },
  {
   "cell_type": "code",
   "execution_count": 25,
   "id": "fea99ae9-ec49-44cc-8100-8fdd3bd63190",
   "metadata": {},
   "outputs": [
    {
     "name": "stdout",
     "output_type": "stream",
     "text": [
      "    0 1 2 3 \n",
      "0  |\u001b[31m0\u001b[0m \u001b[31m0\u001b[0m \u001b[31m0\u001b[0m \u001b[31m0\u001b[0m |\n",
      "1  |X X X \u001b[31m0\u001b[0m |\n",
      "2  |X X \u001b[31m0\u001b[0m X |\n",
      "3  |X X \u001b[31m0\u001b[0m \u001b[31m0\u001b[0m |\n",
      "winner =  2\n"
     ]
    }
   ],
   "source": [
    "b = boards.LinearBoard(n=4);\n",
    "w = boards.simulate(b.board, b.masks, max_moves=20)[1]\n",
    "b.printBoard()\n",
    "print(\"winner = \", w)"
   ]
  },
  {
   "cell_type": "code",
   "execution_count": 85,
   "id": "20beae51-3c64-4235-ab35-5a7db8e069a8",
   "metadata": {},
   "outputs": [
    {
     "name": "stdout",
     "output_type": "stream",
     "text": [
      "    0 1 2 3 4 5 6 7 8 9 \n",
      "0  |        X       \u001b[31m0\u001b[0m   |\n",
      "1  |  X \u001b[31m0\u001b[0m     X     X   |\n",
      "2  |  \u001b[31m0\u001b[0m X     \u001b[31m0\u001b[0m         |\n",
      "3  |              X     |\n",
      "4  |        \u001b[31m0\u001b[0m           |\n",
      "5  |X X       \u001b[31m0\u001b[0m         |\n",
      "6  |  \u001b[31m0\u001b[0m         X       |\n",
      "7  |\u001b[31m0\u001b[0m                   |\n",
      "8  |            \u001b[31m0\u001b[0m       |\n",
      "9  |  X       \u001b[31m0\u001b[0m         |\n",
      "winner =  -1\n"
     ]
    }
   ],
   "source": [
    "b = boards.LinearBoard(n=10);\n",
    "w = boards.simulate(b.board, b.masks, max_moves=20)[1]\n",
    "b.printBoard()\n",
    "print(\"winner = \", w)"
   ]
  },
  {
   "cell_type": "code",
   "execution_count": 98,
   "id": "aeb2cbde-705b-41ae-a24c-a433a1469aaf",
   "metadata": {},
   "outputs": [
    {
     "name": "stderr",
     "output_type": "stream",
     "text": [
      "100%|████████████████████████████████████| 10000/10000 [00:11<00:00, 865.73it/s]\n"
     ]
    },
    {
     "data": {
      "image/png": "[encoded data removed]",
      "text/plain": [
       "<Figure size 640x480 with 1 Axes>"
      ]
     },
     "metadata": {},
     "output_type": "display_data"
    }
   ],
   "source": [
    "n = 4\n",
    "B = boards.LinearBoard(n)\n",
    "stats = [boards.simulate(boards.LinearBoard(n).board, B.masks, max_moves=1000)[1] for _ in tqdm.tqdm(range(10000))]\n",
    "plt.hist(stats, bins=3);"
   ]
  },
  {
   "cell_type": "code",
   "execution_count": 111,
   "id": "f215c5bb-bf69-4168-8de5-31a1f1246522",
   "metadata": {},
   "outputs": [],
   "source": [
    "B = boards.LinearBoard(5);\n",
    "masks = B.masks\n",
    "board, _ = boards.simulate(B.board, B.masks, max_moves=3)"
   ]
  },
  {
   "cell_type": "code",
   "execution_count": 123,
   "id": "7dd450c7-312a-448d-9381-9f80f381381a",
   "metadata": {},
   "outputs": [],
   "source": [
    "moves = boards.getMoves(board)\n",
    "moves_stats = np.zeros(len(moves))"
   ]
  },
  {
   "cell_type": "code",
   "execution_count": null,
   "id": "2a43c488-b57e-479d-b465-b5728a333191",
   "metadata": {},
   "outputs": [],
   "source": [
    "f"
   ]
  },
  {
   "cell_type": "code",
   "execution_count": 133,
   "id": "a9a39bfb-6b77-43a4-8b15-bf6a16462011",
   "metadata": {},
   "outputs": [
    {
     "name": "stderr",
     "output_type": "stream",
     "text": [
      "100%|███████████████████████████████████████████| 22/22 [00:34<00:00,  1.56s/it]\n"
     ]
    }
   ],
   "source": [
    "for iMove in tqdm.tqdm(range(len(moves))):\n",
    "    bb = board.copy()\n",
    "    bb[ moves[iMove]] = 1\n",
    "    boards_collection = np.tile(bb, (1000,1))\n",
    "    mc = np.apply_along_axis(lambda b: boards.simulate(b, masks, max_moves=100)[1], 1, boards_collection)\n",
    "    moves_stats[iMove] = np.mean(mc==1)"
   ]
  },
  {
   "cell_type": "code",
   "execution_count": 136,
   "id": "62b8263b-b5f1-4142-9bdb-57d54b87a73b",
   "metadata": {},
   "outputs": [
    {
     "data": {
      "text/plain": [
       "17"
      ]
     },
     "execution_count": 136,
     "metadata": {},
     "output_type": "execute_result"
    }
   ],
   "source": [
    "best_move = np.argmax(moves_stats)\n",
    "best_move"
   ]
  },
  {
   "cell_type": "code",
   "execution_count": null,
   "id": "35435e98-a6ac-4515-9e1d-d95384289510",
   "metadata": {},
   "outputs": [],
   "source": [
    "board[best_move] = 1;\n",
    "moves = boards.getMoves(board)\n",
    "moves_stats = np.zeros(len(moves))"
   ]
  },
  {
   "cell_type": "code",
   "execution_count": 137,
   "id": "5fa0b983-7a70-4650-8fae-f8d326abf788",
   "metadata": {},
   "outputs": [
    {
     "name": "stderr",
     "output_type": "stream",
     "text": [
      "100%|███████████████████████████████████████████| 22/22 [00:34<00:00,  1.59s/it]\n"
     ]
    }
   ],
   "source": [
    "for iMove in tqdm.tqdm(range(len(moves))):\n",
    "    bb = board.copy()\n",
    "    bb[ moves[iMove]] = 1\n",
    "    boards_collection = np.tile(bb, (1000,1))\n",
    "    mc = np.apply_along_axis(lambda b: boards.simulate(b, masks, player_to_move=2, max_moves=100)[1], 1, boards_collection)\n",
    "    moves_stats[iMove] = np.mean(mc==2)"
   ]
  },
  {
   "cell_type": "code",
   "execution_count": 138,
   "id": "d821edc4-1549-4d4b-a9e7-59175d811572",
   "metadata": {},
   "outputs": [
    {
     "data": {
      "text/plain": [
       "15"
      ]
     },
     "execution_count": 138,
     "metadata": {},
     "output_type": "execute_result"
    }
   ],
   "source": [
    "best_move = np.argmax(moves_stats)\n",
    "best_move"
   ]
  },
  {
   "cell_type": "code",
   "execution_count": 139,
   "id": "a5ad1612-65fb-4243-b8e9-966227c03606",
   "metadata": {},
   "outputs": [],
   "source": [
    "board[best_move] = 2;\n",
    "moves = boards.getMoves(board)\n",
    "moves_stats = np.zeros(len(moves))"
   ]
  },
  {
   "cell_type": "code",
   "execution_count": 137,
   "id": "7fded8d4-e00c-4cf4-9568-43efcd866744",
   "metadata": {},
   "outputs": [
    {
     "name": "stderr",
     "output_type": "stream",
     "text": [
      "100%|███████████████████████████████████████████| 22/22 [00:34<00:00,  1.59s/it]\n"
     ]
    }
   ],
   "source": [
    "for iMove in tqdm.tqdm(range(len(moves))):\n",
    "    bb = board.copy()\n",
    "    bb[ moves[iMove]] = 1\n",
    "    boards_collection = np.tile(bb, (1000,1))\n",
    "    mc = np.apply_along_axis(lambda b: boards.simulate(b, masks, player_to_move=2, max_moves=100)[1], 1, boards_collection)\n",
    "    moves_stats[iMove] = np.mean(mc==2)"
   ]
  },
  {
   "cell_type": "code",
   "execution_count": null,
   "id": "218e2913-1e22-4faa-84d2-ca60bfb4daea",
   "metadata": {},
   "outputs": [],
   "source": []
  }
 ],
 "metadata": {
  "kernelspec": {
   "display_name": "Python 3 (ipykernel)",
   "language": "python",
   "name": "python3"
  },
  "language_info": {
   "codemirror_mode": {
    "name": "ipython",
    "version": 3
   },
   "file_extension": ".py",
   "mimetype": "text/x-python",
   "name": "python",
   "nbconvert_exporter": "python",
   "pygments_lexer": "ipython3",
   "version": "3.8.12"
  }
 },
 "nbformat": 4,
 "nbformat_minor": 5
}
