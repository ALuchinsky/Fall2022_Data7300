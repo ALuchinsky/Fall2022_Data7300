{
 "cells": [
  {
   "cell_type": "code",
   "execution_count": 1,
   "id": "933d9ab5-e9be-49cd-b446-92c901995c83",
   "metadata": {},
   "outputs": [],
   "source": [
    "import numpy as np\n",
    "import numpy.random as random"
   ]
  },
  {
   "cell_type": "code",
   "execution_count": 3,
   "id": "83eb6b09-8a0d-4c55-82d8-2585083ad701",
   "metadata": {},
   "outputs": [],
   "source": [
    "import importlib"
   ]
  },
  {
   "cell_type": "code",
   "execution_count": 9,
   "id": "6cf901c2-cf65-41bf-b8f3-2466fe0710b1",
   "metadata": {},
   "outputs": [],
   "source": [
    "import LinearBoard"
   ]
  },
  {
   "cell_type": "code",
   "execution_count": 13,
   "id": "4261fb20-a188-4786-b21d-96bfd0aca39c",
   "metadata": {},
   "outputs": [],
   "source": [
    "importlib.reload(LinearBoard);"
   ]
  },
  {
   "cell_type": "code",
   "execution_count": 16,
   "id": "ca68c7f3-a66f-4230-a80a-14f39267a398",
   "metadata": {},
   "outputs": [
    {
     "name": "stdout",
     "output_type": "stream",
     "text": [
      "    0 1 2 \n",
      "0  |X \u001b[31m0\u001b[0m X |\n",
      "1  |\u001b[31m0\u001b[0m \u001b[31m0\u001b[0m X |\n",
      "2  |\u001b[31m0\u001b[0m X X |\n"
     ]
    }
   ],
   "source": [
    "b = LinearBoard.LinearBoard(3)\n",
    "b.board[0]=1\n",
    "b.board[1]=2\n",
    "b.board[2]=1\n",
    "b.board[ b.ij_to_ind(1,0)] = 2\n",
    "b.board[ b.ij_to_ind(2,0)] = 2\n",
    "b.board[ b.ij_to_ind(1,1)] = 2\n",
    "b.board[ b.ij_to_ind(2,1)] = 1\n",
    "b.board[ b.ij_to_ind(1,2)] = 1\n",
    "b.board[ b.ij_to_ind(2,2)] = 1\n",
    "b.printBoard()"
   ]
  },
  {
   "cell_type": "code",
   "execution_count": 17,
   "id": "eb35bd74-9446-40b2-9391-ac0314e4340d",
   "metadata": {},
   "outputs": [
    {
     "data": {
      "text/plain": [
       "1"
      ]
     },
     "execution_count": 17,
     "metadata": {},
     "output_type": "execute_result"
    }
   ],
   "source": [
    "b.getWinner()"
   ]
  },
  {
   "cell_type": "code",
   "execution_count": 104,
   "id": "09150269-b7f3-4db9-a1df-d82d3f07f0be",
   "metadata": {},
   "outputs": [
    {
     "data": {
      "text/plain": [
       "[4, 5, 6, 7, 8]"
      ]
     },
     "execution_count": 104,
     "metadata": {},
     "output_type": "execute_result"
    }
   ],
   "source": [
    "b.getMoves()"
   ]
  },
  {
   "cell_type": "code",
   "execution_count": 109,
   "id": "50ad9269-04ab-493c-816a-736f553728b8",
   "metadata": {},
   "outputs": [],
   "source": [
    "def getWinner(board, masks):\n",
    "    for m in masks:\n",
    "        w = np.unique(board[m])\n",
    "        if len(w)==1 and w[0]>0:\n",
    "            return w[0]\n",
    "    if np.sum(board==0)==0:\n",
    "        return 0\n",
    "    return -1"
   ]
  },
  {
   "cell_type": "code",
   "execution_count": 110,
   "id": "04e2af73-a212-42ac-9f1e-0028da29ce15",
   "metadata": {},
   "outputs": [
    {
     "data": {
      "text/plain": [
       "-1"
      ]
     },
     "execution_count": 110,
     "metadata": {},
     "output_type": "execute_result"
    }
   ],
   "source": [
    "getWinner(b.board, b.masks)"
   ]
  },
  {
   "cell_type": "code",
   "execution_count": 88,
   "id": "b464ce1c-ecb0-4879-a5bb-e7962c6ca7d4",
   "metadata": {},
   "outputs": [
    {
     "data": {
      "text/plain": [
       "array([1, 2])"
      ]
     },
     "execution_count": 88,
     "metadata": {},
     "output_type": "execute_result"
    }
   ],
   "source": [
    "np.unique( b.board[ b.masks[0] ] )"
   ]
  },
  {
   "cell_type": "markdown",
   "id": "8c5c674e-5aea-4a06-a33d-4ab6a6df4bd1",
   "metadata": {},
   "source": [
    "## Backup "
   ]
  },
  {
   "cell_type": "code",
   "execution_count": 3,
   "id": "31bcac52-afe1-42b1-9000-a2f707643f9b",
   "metadata": {},
   "outputs": [],
   "source": [
    "import board"
   ]
  },
  {
   "cell_type": "code",
   "execution_count": 73,
   "id": "51072850-1077-477f-b45c-39ecd367fbc1",
   "metadata": {},
   "outputs": [],
   "source": [
    "importlib.reload(board);"
   ]
  },
  {
   "cell_type": "code",
   "execution_count": 74,
   "id": "7c6a6d72-6993-46eb-9346-ac1519260f50",
   "metadata": {},
   "outputs": [
    {
     "name": "stdout",
     "output_type": "stream",
     "text": [
      "    0 1 2 \n",
      "0  |X X \u001b[31m0\u001b[0m |\n",
      "1  |      |\n",
      "2  |      |\n",
      "Winner: -1\n"
     ]
    }
   ],
   "source": [
    "B = board.Board(n=3)\n",
    "B.movesToBoard([ (1,[0,0]), (1,[0,1]), (2,[0,2])])\n",
    "B.printBoard()"
   ]
  },
  {
   "cell_type": "code",
   "execution_count": 75,
   "id": "610302d8-1a94-4a23-91ee-ac01beb03c5b",
   "metadata": {},
   "outputs": [],
   "source": [
    "B2 = B.copy()"
   ]
  },
  {
   "cell_type": "code",
   "execution_count": 70,
   "id": "ad5b8779-115c-43b0-9f56-d2c25695b5e4",
   "metadata": {},
   "outputs": [],
   "source": [
    "def copy(b):\n",
    "    newB = board.Board()\n",
    "    newB.board = b.board.copy()\n",
    "    newB.masks = b.masks.copy()\n",
    "    return newB"
   ]
  },
  {
   "cell_type": "code",
   "execution_count": 76,
   "id": "df900fb2-8500-4a31-94f3-3036c9d209fa",
   "metadata": {},
   "outputs": [
    {
     "name": "stdout",
     "output_type": "stream",
     "text": [
      "    0 1 2 \n",
      "0  |X X \u001b[31m0\u001b[0m |\n",
      "1  |X     |\n",
      "2  |      |\n",
      "Winner: -1\n"
     ]
    }
   ],
   "source": [
    "B2 = B.copy()\n",
    "B2.board[1][0]=1\n",
    "B2.printBoard()\n"
   ]
  },
  {
   "cell_type": "code",
   "execution_count": 77,
   "id": "22980f6c-ad9b-4c23-80b0-804dfa1fc987",
   "metadata": {},
   "outputs": [
    {
     "name": "stdout",
     "output_type": "stream",
     "text": [
      "    0 1 2 \n",
      "0  |X X \u001b[31m0\u001b[0m |\n",
      "1  |      |\n",
      "2  |      |\n",
      "Winner: -1\n"
     ]
    }
   ],
   "source": [
    "B.printBoard()"
   ]
  },
  {
   "cell_type": "code",
   "execution_count": 78,
   "id": "baa517d0-a113-463d-a5cc-31b52fd2e373",
   "metadata": {},
   "outputs": [],
   "source": [
    "def simulateGame(B, p1=None, p2=None, rnd=0, playerToMove_ = 1, max_moves = 10000):\n",
    "    history = B.boardToMoves()\n",
    "    board = B.board\n",
    "    masks = B.masks\n",
    "    n_moves = 0\n",
    "    playerToMove = playerToMove_\n",
    "    while B.getWinner() == -1 and n_moves<max_moves:\n",
    "        n_moves = n_moves+1\n",
    "        # Chose a move (random or use a player model if provided)\n",
    "        move = None\n",
    "        moves = B.getMoves()\n",
    "        move = moves[random.randint(0, len(moves) )]\n",
    "       \n",
    "        # Make the move\n",
    "        B.board[move[0]][move[1]] = playerToMove\n",
    "        \n",
    "        # Add the move to the history\n",
    "        history.append((playerToMove, move))\n",
    "        \n",
    "        # Switch the active player\n",
    "        playerToMove = 1 if playerToMove == 2 else 2\n",
    "        \n",
    "    return history"
   ]
  },
  {
   "cell_type": "code",
   "execution_count": 230,
   "id": "5959bd5e-7181-400c-a46d-727262ee7d57",
   "metadata": {},
   "outputs": [
    {
     "name": "stdout",
     "output_type": "stream",
     "text": [
      "    0 1 2 3 4 \n",
      "0  |          |\n",
      "1  |X         |\n",
      "2  |          |\n",
      "3  |          |\n",
      "4  |          |\n",
      "Winner: -1\n"
     ]
    }
   ],
   "source": [
    "B = board.Board(5)\n",
    "simulateGame(B, max_moves=1);\n",
    "B.printBoard()"
   ]
  },
  {
   "cell_type": "code",
   "execution_count": 236,
   "id": "83004f16-5825-42e6-99e0-1d0b78ef9fa0",
   "metadata": {},
   "outputs": [],
   "source": [
    "moves = B.getMoves()\n",
    "probe_MC = np.zeros( len(moves))\n",
    "for iMove in range(len(moves)):\n",
    "    m = moves[iMove]\n",
    "    probe_results = np.empty([], dtype = 'int')\n",
    "    for _ in range(100):\n",
    "        B2 = B.copy()\n",
    "        B2.board[m[0]][m[1]] = 2\n",
    "        simulateGame(B2, playerToMove_=1)\n",
    "        probe_results = np.append(probe_results, B2.getWinner())\n",
    "    probe_MC[iMove] = np.mean( probe_results == 2)"
   ]
  },
  {
   "cell_type": "code",
   "execution_count": 235,
   "id": "fb6cb312-2a95-4100-844f-0c874a46a751",
   "metadata": {},
   "outputs": [
    {
     "data": {
      "text/plain": [
       "[0, 4]"
      ]
     },
     "execution_count": 235,
     "metadata": {},
     "output_type": "execute_result"
    }
   ],
   "source": [
    "best_move = moves[np.argmax(probe_MC)]\n",
    "best_move"
   ]
  },
  {
   "cell_type": "code",
   "execution_count": 229,
   "id": "e6055bbc-42b2-4dce-bcd2-dcc8e54618c2",
   "metadata": {},
   "outputs": [
    {
     "name": "stdout",
     "output_type": "stream",
     "text": [
      "    0 1 2 3 4 \n",
      "0  |    \u001b[31m0\u001b[0m     |\n",
      "1  |      X   |\n",
      "2  |    \u001b[31m0\u001b[0m     |\n",
      "3  |          |\n",
      "4  |          |\n",
      "Winner: -1\n"
     ]
    }
   ],
   "source": [
    "B.board[best_move[0]][best_move[1]] = 2;\n",
    "B.printBoard()"
   ]
  },
  {
   "cell_type": "code",
   "execution_count": null,
   "id": "3cad4e97-1aef-4d7f-b035-1b3d361b4b63",
   "metadata": {},
   "outputs": [],
   "source": []
  }
 ],
 "metadata": {
  "kernelspec": {
   "display_name": "Python 3 (ipykernel)",
   "language": "python",
   "name": "python3"
  },
  "language_info": {
   "codemirror_mode": {
    "name": "ipython",
    "version": 3
   },
   "file_extension": ".py",
   "mimetype": "text/x-python",
   "name": "python",
   "nbconvert_exporter": "python",
   "pygments_lexer": "ipython3",
   "version": "3.8.12"
  }
 },
 "nbformat": 4,
 "nbformat_minor": 5
}
