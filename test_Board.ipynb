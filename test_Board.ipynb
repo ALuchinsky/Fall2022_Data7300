{
 "cells": [
  {
   "cell_type": "code",
   "execution_count": 1,
   "id": "933d9ab5-e9be-49cd-b446-92c901995c83",
   "metadata": {},
   "outputs": [],
   "source": [
    "import numpy as np\n",
    "import numpy.random as random"
   ]
  },
  {
   "cell_type": "code",
   "execution_count": 2,
   "id": "83eb6b09-8a0d-4c55-82d8-2585083ad701",
   "metadata": {},
   "outputs": [],
   "source": [
    "import importlib"
   ]
  },
  {
   "cell_type": "code",
   "execution_count": 3,
   "id": "31bcac52-afe1-42b1-9000-a2f707643f9b",
   "metadata": {},
   "outputs": [],
   "source": [
    "import board"
   ]
  },
  {
   "cell_type": "code",
   "execution_count": 73,
   "id": "51072850-1077-477f-b45c-39ecd367fbc1",
   "metadata": {},
   "outputs": [],
   "source": [
    "importlib.reload(board);"
   ]
  },
  {
   "cell_type": "code",
   "execution_count": 74,
   "id": "7c6a6d72-6993-46eb-9346-ac1519260f50",
   "metadata": {},
   "outputs": [
    {
     "name": "stdout",
     "output_type": "stream",
     "text": [
      "    0 1 2 \n",
      "0  |X X \u001b[31m0\u001b[0m |\n",
      "1  |      |\n",
      "2  |      |\n",
      "Winner: -1\n"
     ]
    }
   ],
   "source": [
    "B = board.Board(n=3)\n",
    "B.movesToBoard([ (1,[0,0]), (1,[0,1]), (2,[0,2])])\n",
    "B.printBoard()"
   ]
  },
  {
   "cell_type": "code",
   "execution_count": 75,
   "id": "610302d8-1a94-4a23-91ee-ac01beb03c5b",
   "metadata": {},
   "outputs": [],
   "source": [
    "B2 = B.copy()"
   ]
  },
  {
   "cell_type": "code",
   "execution_count": 70,
   "id": "ad5b8779-115c-43b0-9f56-d2c25695b5e4",
   "metadata": {},
   "outputs": [],
   "source": [
    "def copy(b):\n",
    "    newB = board.Board()\n",
    "    newB.board = b.board.copy()\n",
    "    newB.masks = b.masks.copy()\n",
    "    return newB"
   ]
  },
  {
   "cell_type": "code",
   "execution_count": 76,
   "id": "df900fb2-8500-4a31-94f3-3036c9d209fa",
   "metadata": {},
   "outputs": [
    {
     "name": "stdout",
     "output_type": "stream",
     "text": [
      "    0 1 2 \n",
      "0  |X X \u001b[31m0\u001b[0m |\n",
      "1  |X     |\n",
      "2  |      |\n",
      "Winner: -1\n"
     ]
    }
   ],
   "source": [
    "B2 = B.copy()\n",
    "B2.board[1][0]=1\n",
    "B2.printBoard()\n"
   ]
  },
  {
   "cell_type": "code",
   "execution_count": 77,
   "id": "22980f6c-ad9b-4c23-80b0-804dfa1fc987",
   "metadata": {},
   "outputs": [
    {
     "name": "stdout",
     "output_type": "stream",
     "text": [
      "    0 1 2 \n",
      "0  |X X \u001b[31m0\u001b[0m |\n",
      "1  |      |\n",
      "2  |      |\n",
      "Winner: -1\n"
     ]
    }
   ],
   "source": [
    "B.printBoard()"
   ]
  },
  {
   "cell_type": "code",
   "execution_count": 78,
   "id": "baa517d0-a113-463d-a5cc-31b52fd2e373",
   "metadata": {},
   "outputs": [],
   "source": [
    "def simulateGame(B, p1=None, p2=None, rnd=0, playerToMove_ = 1, max_moves = 10000):\n",
    "    history = B.boardToMoves()\n",
    "    board = B.board\n",
    "    masks = B.masks\n",
    "    n_moves = 0\n",
    "    playerToMove = playerToMove_\n",
    "    while B.getWinner() == -1 and n_moves<max_moves:\n",
    "        n_moves = n_moves+1\n",
    "        # Chose a move (random or use a player model if provided)\n",
    "        move = None\n",
    "        moves = B.getMoves()\n",
    "        move = moves[random.randint(0, len(moves) )]\n",
    "       \n",
    "        # Make the move\n",
    "        B.board[move[0]][move[1]] = playerToMove\n",
    "        \n",
    "        # Add the move to the history\n",
    "        history.append((playerToMove, move))\n",
    "        \n",
    "        # Switch the active player\n",
    "        playerToMove = 1 if playerToMove == 2 else 2\n",
    "        \n",
    "    return history"
   ]
  },
  {
   "cell_type": "code",
   "execution_count": 211,
   "id": "5959bd5e-7181-400c-a46d-727262ee7d57",
   "metadata": {},
   "outputs": [
    {
     "name": "stdout",
     "output_type": "stream",
     "text": [
      "    0 1 2 3 4 \n",
      "0  |          |\n",
      "1  |      X   |\n",
      "2  |          |\n",
      "3  |          |\n",
      "4  |          |\n",
      "Winner: -1\n"
     ]
    }
   ],
   "source": [
    "B = board.Board(5)\n",
    "simulateGame(B, max_moves=1);\n",
    "B.printBoard()"
   ]
  },
  {
   "cell_type": "code",
   "execution_count": 221,
   "id": "83004f16-5825-42e6-99e0-1d0b78ef9fa0",
   "metadata": {},
   "outputs": [],
   "source": [
    "moves = B.getMoves()\n",
    "probe_MC = np.zeros( len(moves))\n",
    "for iMove in range(len(moves)):\n",
    "    m = moves[iMove]\n",
    "    probe_results = np.empty([], dtype = 'int')\n",
    "    for _ in range(100):\n",
    "        B2 = B.copy()\n",
    "        B2.board[m[0]][m[1]] = 2\n",
    "        simulateGame(B2, playerToMove_=1)\n",
    "        probe_results = np.append(probe_results, B2.getWinner())\n",
    "    probe_MC[iMove] = np.mean( probe_results == 2)"
   ]
  },
  {
   "cell_type": "code",
   "execution_count": 225,
   "id": "fb6cb312-2a95-4100-844f-0c874a46a751",
   "metadata": {},
   "outputs": [],
   "source": [
    "best_move = moves[np.argmax(probe_MC)]"
   ]
  },
  {
   "cell_type": "code",
   "execution_count": 226,
   "id": "e6055bbc-42b2-4dce-bcd2-dcc8e54618c2",
   "metadata": {},
   "outputs": [
    {
     "name": "stdout",
     "output_type": "stream",
     "text": [
      "    0 1 2 3 4 \n",
      "0  |    \u001b[31m0\u001b[0m     |\n",
      "1  |      X   |\n",
      "2  |          |\n",
      "3  |          |\n",
      "4  |          |\n",
      "Winner: -1\n"
     ]
    }
   ],
   "source": [
    "B.board[best_move[0]][best_move[1]] = 2;\n",
    "B.printBoard()"
   ]
  },
  {
   "cell_type": "code",
   "execution_count": null,
   "id": "3cad4e97-1aef-4d7f-b035-1b3d361b4b63",
   "metadata": {},
   "outputs": [],
   "source": []
  }
 ],
 "metadata": {
  "kernelspec": {
   "display_name": "Python 3 (ipykernel)",
   "language": "python",
   "name": "python3"
  },
  "language_info": {
   "codemirror_mode": {
    "name": "ipython",
    "version": 3
   },
   "file_extension": ".py",
   "mimetype": "text/x-python",
   "name": "python",
   "nbconvert_exporter": "python",
   "pygments_lexer": "ipython3",
   "version": "3.8.12"
  }
 },
 "nbformat": 4,
 "nbformat_minor": 5
}
