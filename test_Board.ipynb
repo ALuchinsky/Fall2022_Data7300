{
 "cells": [
  {
   "cell_type": "code",
   "execution_count": 1,
   "id": "933d9ab5-e9be-49cd-b446-92c901995c83",
   "metadata": {},
   "outputs": [],
   "source": [
    "import numpy as np\n",
    "import numpy.random as random"
   ]
  },
  {
   "cell_type": "code",
   "execution_count": 22,
   "id": "83eb6b09-8a0d-4c55-82d8-2585083ad701",
   "metadata": {},
   "outputs": [],
   "source": [
    "import importlib"
   ]
  },
  {
   "cell_type": "code",
   "execution_count": 26,
   "id": "31bcac52-afe1-42b1-9000-a2f707643f9b",
   "metadata": {},
   "outputs": [],
   "source": [
    "import board"
   ]
  },
  {
   "cell_type": "code",
   "execution_count": 30,
   "id": "51072850-1077-477f-b45c-39ecd367fbc1",
   "metadata": {},
   "outputs": [],
   "source": [
    "importlib.reload(board);"
   ]
  },
  {
   "cell_type": "code",
   "execution_count": 31,
   "id": "7c6a6d72-6993-46eb-9346-ac1519260f50",
   "metadata": {},
   "outputs": [
    {
     "name": "stdout",
     "output_type": "stream",
     "text": [
      "    0 1 2 \n",
      "0  |X X \u001b[31m0\u001b[0m |\n",
      "1  |      |\n",
      "2  |      |\n",
      "Winner: -1\n"
     ]
    }
   ],
   "source": [
    "B = board.Board(n=3)\n",
    "B.movesToBoard([ (1,[0,0]), (1,[0,1]), (2,[0,2])])\n",
    "B.printBoard()"
   ]
  },
  {
   "cell_type": "code",
   "execution_count": 5,
   "id": "baa517d0-a113-463d-a5cc-31b52fd2e373",
   "metadata": {},
   "outputs": [],
   "source": [
    "def simulateGame(B, p1=None, p2=None, rnd=0, playerToMove_ = 1, max_moves = 10000):\n",
    "    history = []\n",
    "    board = B.board\n",
    "    masks = B.masks\n",
    "    n_moves = 0\n",
    "    playerToMove = playerToMove_\n",
    "    while B.getWinner() == -1 and n_moves<max_moves:\n",
    "        n_moves = n_moves+1\n",
    "        # Chose a move (random or use a player model if provided)\n",
    "        move = None\n",
    "        moves = B.getMoves()\n",
    "        move = moves[random.randint(0, len(moves) )]\n",
    "       \n",
    "        # Make the move\n",
    "        B.board[move[0]][move[1]] = playerToMove\n",
    "        \n",
    "        # Add the move to the history\n",
    "        history.append((playerToMove, move))\n",
    "        \n",
    "        # Switch the active player\n",
    "        playerToMove = 1 if playerToMove == 2 else 2\n",
    "        \n",
    "    return history"
   ]
  },
  {
   "cell_type": "code",
   "execution_count": 21,
   "id": "5959bd5e-7181-400c-a46d-727262ee7d57",
   "metadata": {},
   "outputs": [
    {
     "name": "stdout",
     "output_type": "stream",
     "text": [
      "    0 1 2 3 4 \n",
      "0  |X \u001b[31mO\u001b[0m X \u001b[31mO\u001b[0m   |\n",
      "1  |X X   \u001b[31mO\u001b[0m \u001b[31mO\u001b[0m |\n",
      "2  |\u001b[31mO\u001b[0m \u001b[31mO\u001b[0m X X X |\n",
      "3  |\u001b[31mO\u001b[0m \u001b[31mO\u001b[0m X X X |\n",
      "4  |  \u001b[31mO\u001b[0m \u001b[31mO\u001b[0m   X |\n",
      "Winner: 1\n"
     ]
    }
   ],
   "source": [
    "B = Board(5)\n",
    "simulateGame(B);\n",
    "B.printBoard()"
   ]
  },
  {
   "cell_type": "code",
   "execution_count": null,
   "id": "f3c033bf-6ad1-4fc4-b3e3-e613cfa798ea",
   "metadata": {},
   "outputs": [],
   "source": []
  }
 ],
 "metadata": {
  "kernelspec": {
   "display_name": "Python 3 (ipykernel)",
   "language": "python",
   "name": "python3"
  },
  "language_info": {
   "codemirror_mode": {
    "name": "ipython",
    "version": 3
   },
   "file_extension": ".py",
   "mimetype": "text/x-python",
   "name": "python",
   "nbconvert_exporter": "python",
   "pygments_lexer": "ipython3",
   "version": "3.8.12"
  }
 },
 "nbformat": 4,
 "nbformat_minor": 5
}
